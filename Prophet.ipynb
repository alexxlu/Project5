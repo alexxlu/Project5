{
 "cells": [
  {
   "cell_type": "code",
   "execution_count": 131,
   "metadata": {},
   "outputs": [],
   "source": [
    "#Import necessary libraries\n",
    "import warnings\n",
    "warnings.filterwarnings('ignore')\n",
    "from sklearn.metrics import mean_squared_error\n",
    "\n",
    "import pandas as pd \n",
    "\n",
    "# Matplotlib for plotting\n",
    "import matplotlib.pyplot as plt\n",
    "import matplotlib\n",
    "import seaborn as sns\n",
    "%matplotlib inline\n",
    "from matplotlib.pylab import rcParams\n",
    "plt.style.use('fivethirtyeight')\n",
    "\n",
    "from fbprophet import Prophet as proph"
   ]
  },
  {
   "cell_type": "code",
   "execution_count": 132,
   "metadata": {},
   "outputs": [],
   "source": [
    "data=pd.read_excel('US Data.xlsx')\n",
    "ts=data[['Date','Last Price']]\n",
    "ts.rename(columns={'Date': 'ds', 'Last Price': 'y'}, inplace=True)\n",
    "train=int(len(ts)*0.9)\n",
    "train_data=ts[:train]\n",
    "test_data=ts[train:]\n",
    "test_dates=test_data.drop('y',axis=1)\n",
    "test_y=test_data.y\n"
   ]
  },
  {
   "cell_type": "code",
   "execution_count": 133,
   "metadata": {},
   "outputs": [
    {
     "data": {
      "text/html": [
       "<div>\n",
       "<style scoped>\n",
       "    .dataframe tbody tr th:only-of-type {\n",
       "        vertical-align: middle;\n",
       "    }\n",
       "\n",
       "    .dataframe tbody tr th {\n",
       "        vertical-align: top;\n",
       "    }\n",
       "\n",
       "    .dataframe thead th {\n",
       "        text-align: right;\n",
       "    }\n",
       "</style>\n",
       "<table border=\"1\" class=\"dataframe\">\n",
       "  <thead>\n",
       "    <tr style=\"text-align: right;\">\n",
       "      <th></th>\n",
       "      <th>ds</th>\n",
       "      <th>y</th>\n",
       "    </tr>\n",
       "  </thead>\n",
       "  <tbody>\n",
       "    <tr>\n",
       "      <th>0</th>\n",
       "      <td>2014-02-03</td>\n",
       "      <td>71.6471</td>\n",
       "    </tr>\n",
       "    <tr>\n",
       "      <th>1</th>\n",
       "      <td>2014-02-04</td>\n",
       "      <td>72.6843</td>\n",
       "    </tr>\n",
       "    <tr>\n",
       "      <th>2</th>\n",
       "      <td>2014-02-05</td>\n",
       "      <td>73.2271</td>\n",
       "    </tr>\n",
       "    <tr>\n",
       "      <th>3</th>\n",
       "      <td>2014-02-06</td>\n",
       "      <td>73.2157</td>\n",
       "    </tr>\n",
       "    <tr>\n",
       "      <th>4</th>\n",
       "      <td>2014-02-07</td>\n",
       "      <td>74.2400</td>\n",
       "    </tr>\n",
       "  </tbody>\n",
       "</table>\n",
       "</div>"
      ],
      "text/plain": [
       "          ds        y\n",
       "0 2014-02-03  71.6471\n",
       "1 2014-02-04  72.6843\n",
       "2 2014-02-05  73.2271\n",
       "3 2014-02-06  73.2157\n",
       "4 2014-02-07  74.2400"
      ]
     },
     "execution_count": 133,
     "metadata": {},
     "output_type": "execute_result"
    }
   ],
   "source": [
    "train_data.head()"
   ]
  },
  {
   "cell_type": "code",
   "execution_count": 134,
   "metadata": {},
   "outputs": [
    {
     "name": "stderr",
     "output_type": "stream",
     "text": [
      "INFO:fbprophet:Disabling daily seasonality. Run prophet with daily_seasonality=True to override this.\n"
     ]
    },
    {
     "data": {
      "text/plain": [
       "<fbprophet.forecaster.Prophet at 0x1a1889a9e8>"
      ]
     },
     "execution_count": 134,
     "metadata": {},
     "output_type": "execute_result"
    }
   ],
   "source": [
    "model = proph(interval_width=0.95)\n",
    "model.fit(train_data)"
   ]
  },
  {
   "cell_type": "code",
   "execution_count": 135,
   "metadata": {},
   "outputs": [
    {
     "data": {
      "text/html": [
       "<div>\n",
       "<style scoped>\n",
       "    .dataframe tbody tr th:only-of-type {\n",
       "        vertical-align: middle;\n",
       "    }\n",
       "\n",
       "    .dataframe tbody tr th {\n",
       "        vertical-align: top;\n",
       "    }\n",
       "\n",
       "    .dataframe thead th {\n",
       "        text-align: right;\n",
       "    }\n",
       "</style>\n",
       "<table border=\"1\" class=\"dataframe\">\n",
       "  <thead>\n",
       "    <tr style=\"text-align: right;\">\n",
       "      <th></th>\n",
       "      <th>ds</th>\n",
       "      <th>trend</th>\n",
       "      <th>yhat_lower</th>\n",
       "      <th>yhat_upper</th>\n",
       "      <th>trend_lower</th>\n",
       "      <th>trend_upper</th>\n",
       "      <th>additive_terms</th>\n",
       "      <th>additive_terms_lower</th>\n",
       "      <th>additive_terms_upper</th>\n",
       "      <th>weekly</th>\n",
       "      <th>weekly_lower</th>\n",
       "      <th>weekly_upper</th>\n",
       "      <th>yearly</th>\n",
       "      <th>yearly_lower</th>\n",
       "      <th>yearly_upper</th>\n",
       "      <th>multiplicative_terms</th>\n",
       "      <th>multiplicative_terms_lower</th>\n",
       "      <th>multiplicative_terms_upper</th>\n",
       "      <th>yhat</th>\n",
       "    </tr>\n",
       "  </thead>\n",
       "  <tbody>\n",
       "    <tr>\n",
       "      <th>0</th>\n",
       "      <td>2019-01-09</td>\n",
       "      <td>202.577144</td>\n",
       "      <td>174.447379</td>\n",
       "      <td>210.479676</td>\n",
       "      <td>202.577144</td>\n",
       "      <td>202.577144</td>\n",
       "      <td>-10.113100</td>\n",
       "      <td>-10.113100</td>\n",
       "      <td>-10.113100</td>\n",
       "      <td>0.161662</td>\n",
       "      <td>0.161662</td>\n",
       "      <td>0.161662</td>\n",
       "      <td>-10.274762</td>\n",
       "      <td>-10.274762</td>\n",
       "      <td>-10.274762</td>\n",
       "      <td>0.0</td>\n",
       "      <td>0.0</td>\n",
       "      <td>0.0</td>\n",
       "      <td>192.464044</td>\n",
       "    </tr>\n",
       "    <tr>\n",
       "      <th>1</th>\n",
       "      <td>2019-01-10</td>\n",
       "      <td>202.653083</td>\n",
       "      <td>175.388111</td>\n",
       "      <td>209.445823</td>\n",
       "      <td>202.653083</td>\n",
       "      <td>202.653083</td>\n",
       "      <td>-9.947686</td>\n",
       "      <td>-9.947686</td>\n",
       "      <td>-9.947686</td>\n",
       "      <td>-0.135397</td>\n",
       "      <td>-0.135397</td>\n",
       "      <td>-0.135397</td>\n",
       "      <td>-9.812289</td>\n",
       "      <td>-9.812289</td>\n",
       "      <td>-9.812289</td>\n",
       "      <td>0.0</td>\n",
       "      <td>0.0</td>\n",
       "      <td>0.0</td>\n",
       "      <td>192.705397</td>\n",
       "    </tr>\n",
       "    <tr>\n",
       "      <th>2</th>\n",
       "      <td>2019-01-11</td>\n",
       "      <td>202.729022</td>\n",
       "      <td>175.888282</td>\n",
       "      <td>212.518566</td>\n",
       "      <td>202.729022</td>\n",
       "      <td>202.729022</td>\n",
       "      <td>-9.664815</td>\n",
       "      <td>-9.664815</td>\n",
       "      <td>-9.664815</td>\n",
       "      <td>-0.312173</td>\n",
       "      <td>-0.312173</td>\n",
       "      <td>-0.312173</td>\n",
       "      <td>-9.352642</td>\n",
       "      <td>-9.352642</td>\n",
       "      <td>-9.352642</td>\n",
       "      <td>0.0</td>\n",
       "      <td>0.0</td>\n",
       "      <td>0.0</td>\n",
       "      <td>193.064207</td>\n",
       "    </tr>\n",
       "    <tr>\n",
       "      <th>3</th>\n",
       "      <td>2019-01-14</td>\n",
       "      <td>202.956839</td>\n",
       "      <td>178.340617</td>\n",
       "      <td>211.728625</td>\n",
       "      <td>202.928955</td>\n",
       "      <td>202.968434</td>\n",
       "      <td>-8.472547</td>\n",
       "      <td>-8.472547</td>\n",
       "      <td>-8.472547</td>\n",
       "      <td>-0.409580</td>\n",
       "      <td>-0.409580</td>\n",
       "      <td>-0.409580</td>\n",
       "      <td>-8.062967</td>\n",
       "      <td>-8.062967</td>\n",
       "      <td>-8.062967</td>\n",
       "      <td>0.0</td>\n",
       "      <td>0.0</td>\n",
       "      <td>0.0</td>\n",
       "      <td>194.484292</td>\n",
       "    </tr>\n",
       "    <tr>\n",
       "      <th>4</th>\n",
       "      <td>2019-01-15</td>\n",
       "      <td>203.032778</td>\n",
       "      <td>178.948136</td>\n",
       "      <td>212.807244</td>\n",
       "      <td>202.978929</td>\n",
       "      <td>203.055699</td>\n",
       "      <td>-7.565672</td>\n",
       "      <td>-7.565672</td>\n",
       "      <td>-7.565672</td>\n",
       "      <td>0.117751</td>\n",
       "      <td>0.117751</td>\n",
       "      <td>0.117751</td>\n",
       "      <td>-7.683424</td>\n",
       "      <td>-7.683424</td>\n",
       "      <td>-7.683424</td>\n",
       "      <td>0.0</td>\n",
       "      <td>0.0</td>\n",
       "      <td>0.0</td>\n",
       "      <td>195.467106</td>\n",
       "    </tr>\n",
       "  </tbody>\n",
       "</table>\n",
       "</div>"
      ],
      "text/plain": [
       "          ds       trend  yhat_lower  yhat_upper  trend_lower  trend_upper  \\\n",
       "0 2019-01-09  202.577144  174.447379  210.479676   202.577144   202.577144   \n",
       "1 2019-01-10  202.653083  175.388111  209.445823   202.653083   202.653083   \n",
       "2 2019-01-11  202.729022  175.888282  212.518566   202.729022   202.729022   \n",
       "3 2019-01-14  202.956839  178.340617  211.728625   202.928955   202.968434   \n",
       "4 2019-01-15  203.032778  178.948136  212.807244   202.978929   203.055699   \n",
       "\n",
       "   additive_terms  additive_terms_lower  additive_terms_upper    weekly  \\\n",
       "0      -10.113100            -10.113100            -10.113100  0.161662   \n",
       "1       -9.947686             -9.947686             -9.947686 -0.135397   \n",
       "2       -9.664815             -9.664815             -9.664815 -0.312173   \n",
       "3       -8.472547             -8.472547             -8.472547 -0.409580   \n",
       "4       -7.565672             -7.565672             -7.565672  0.117751   \n",
       "\n",
       "   weekly_lower  weekly_upper     yearly  yearly_lower  yearly_upper  \\\n",
       "0      0.161662      0.161662 -10.274762    -10.274762    -10.274762   \n",
       "1     -0.135397     -0.135397  -9.812289     -9.812289     -9.812289   \n",
       "2     -0.312173     -0.312173  -9.352642     -9.352642     -9.352642   \n",
       "3     -0.409580     -0.409580  -8.062967     -8.062967     -8.062967   \n",
       "4      0.117751      0.117751  -7.683424     -7.683424     -7.683424   \n",
       "\n",
       "   multiplicative_terms  multiplicative_terms_lower  \\\n",
       "0                   0.0                         0.0   \n",
       "1                   0.0                         0.0   \n",
       "2                   0.0                         0.0   \n",
       "3                   0.0                         0.0   \n",
       "4                   0.0                         0.0   \n",
       "\n",
       "   multiplicative_terms_upper        yhat  \n",
       "0                         0.0  192.464044  \n",
       "1                         0.0  192.705397  \n",
       "2                         0.0  193.064207  \n",
       "3                         0.0  194.484292  \n",
       "4                         0.0  195.467106  "
      ]
     },
     "execution_count": 135,
     "metadata": {},
     "output_type": "execute_result"
    }
   ],
   "source": [
    "forecast=model.predict(test_dates)\n",
    "forecast.head()"
   ]
  },
  {
   "cell_type": "code",
   "execution_count": 136,
   "metadata": {},
   "outputs": [
    {
     "data": {
      "text/html": [
       "<div>\n",
       "<style scoped>\n",
       "    .dataframe tbody tr th:only-of-type {\n",
       "        vertical-align: middle;\n",
       "    }\n",
       "\n",
       "    .dataframe tbody tr th {\n",
       "        vertical-align: top;\n",
       "    }\n",
       "\n",
       "    .dataframe thead th {\n",
       "        text-align: right;\n",
       "    }\n",
       "</style>\n",
       "<table border=\"1\" class=\"dataframe\">\n",
       "  <thead>\n",
       "    <tr style=\"text-align: right;\">\n",
       "      <th></th>\n",
       "      <th>y</th>\n",
       "    </tr>\n",
       "    <tr>\n",
       "      <th>ds</th>\n",
       "      <th></th>\n",
       "    </tr>\n",
       "  </thead>\n",
       "  <tbody>\n",
       "    <tr>\n",
       "      <th>2019-01-09</th>\n",
       "      <td>153.31</td>\n",
       "    </tr>\n",
       "    <tr>\n",
       "      <th>2019-01-10</th>\n",
       "      <td>153.80</td>\n",
       "    </tr>\n",
       "    <tr>\n",
       "      <th>2019-01-11</th>\n",
       "      <td>152.29</td>\n",
       "    </tr>\n",
       "    <tr>\n",
       "      <th>2019-01-14</th>\n",
       "      <td>150.00</td>\n",
       "    </tr>\n",
       "    <tr>\n",
       "      <th>2019-01-15</th>\n",
       "      <td>153.07</td>\n",
       "    </tr>\n",
       "  </tbody>\n",
       "</table>\n",
       "</div>"
      ],
      "text/plain": [
       "                 y\n",
       "ds                \n",
       "2019-01-09  153.31\n",
       "2019-01-10  153.80\n",
       "2019-01-11  152.29\n",
       "2019-01-14  150.00\n",
       "2019-01-15  153.07"
      ]
     },
     "execution_count": 136,
     "metadata": {},
     "output_type": "execute_result"
    }
   ],
   "source": [
    "my_pred = test_dates.tail(138)\n",
    "y_pred=forecast['yhat']\n",
    "my_pred['val'] = y_pred.values\n",
    "\n",
    "my_pred.set_index('ds', inplace=True)\n",
    "\n",
    "test_data.set_index('ds', inplace=True)\n",
    "test_data.head()"
   ]
  },
  {
   "cell_type": "code",
   "execution_count": 137,
   "metadata": {},
   "outputs": [
    {
     "name": "stdout",
     "output_type": "stream",
     "text": [
      "MSE of prophet forecast is:  671.6116602215176\n"
     ]
    },
    {
     "data": {
      "image/png": "[encoded data removed]",
      "text/plain": [
       "<Figure size 432x288 with 1 Axes>"
      ]
     },
     "metadata": {},
     "output_type": "display_data"
    }
   ],
   "source": [
    "plt.plot(my_pred, label='Predictioin')\n",
    "plt.plot(test_data, label='Actual')\n",
    "plt.legend()\n",
    "\n",
    "mse=mean_squared_error(test_y, forecast.yhat)\n",
    "print ('MSE of prophet forecast is: ', mse)"
   ]
  },
  {
   "cell_type": "code",
   "execution_count": 138,
   "metadata": {},
   "outputs": [
    {
     "data": {
      "image/png": "[encoded data removed]",
      "text/plain": [
       "<Figure size 648x648 with 3 Axes>"
      ]
     },
     "metadata": {},
     "output_type": "display_data"
    }
   ],
   "source": [
    "model.plot_components(forecast)\n",
    "plt.show()"
   ]
  },
  {
   "cell_type": "code",
   "execution_count": 139,
   "metadata": {},
   "outputs": [],
   "source": [
    "#try to differencing "
   ]
  },
  {
   "cell_type": "code",
   "execution_count": 140,
   "metadata": {},
   "outputs": [
    {
     "name": "stdout",
     "output_type": "stream",
     "text": [
      "                 y\n",
      "ds                \n",
      "2019-01-09  153.31\n",
      "2019-01-10  153.80\n",
      "2019-01-11  152.29\n",
      "2019-01-14  150.00\n",
      "2019-01-15  153.07\n",
      "               y\n",
      "ds              \n",
      "2019-01-09   NaN\n",
      "2019-01-10  0.49\n",
      "2019-01-11 -1.51\n",
      "2019-01-14 -2.29\n",
      "2019-01-15  3.07\n"
     ]
    }
   ],
   "source": [
    "train_diff=train_data.diff(periods=1)\n",
    "train_diff.ds=train_data.ds.values\n",
    "train_diff.dropna()\n",
    "train_diff.head()\n",
    "\n",
    "test_diff=test_data.diff(periods=1)\n",
    "print(test_data.head())\n",
    "print(test_diff.head())"
   ]
  },
  {
   "cell_type": "code",
   "execution_count": 141,
   "metadata": {},
   "outputs": [
    {
     "name": "stderr",
     "output_type": "stream",
     "text": [
      "INFO:fbprophet:Disabling daily seasonality. Run prophet with daily_seasonality=True to override this.\n"
     ]
    },
    {
     "data": {
      "text/plain": [
       "<fbprophet.forecaster.Prophet at 0x1a19779cc0>"
      ]
     },
     "execution_count": 141,
     "metadata": {},
     "output_type": "execute_result"
    }
   ],
   "source": [
    "model = proph(interval_width=0.95)\n",
    "model.fit(train_diff)"
   ]
  },
  {
   "cell_type": "code",
   "execution_count": 142,
   "metadata": {},
   "outputs": [
    {
     "data": {
      "text/html": [
       "<div>\n",
       "<style scoped>\n",
       "    .dataframe tbody tr th:only-of-type {\n",
       "        vertical-align: middle;\n",
       "    }\n",
       "\n",
       "    .dataframe tbody tr th {\n",
       "        vertical-align: top;\n",
       "    }\n",
       "\n",
       "    .dataframe thead th {\n",
       "        text-align: right;\n",
       "    }\n",
       "</style>\n",
       "<table border=\"1\" class=\"dataframe\">\n",
       "  <thead>\n",
       "    <tr style=\"text-align: right;\">\n",
       "      <th></th>\n",
       "      <th>ds</th>\n",
       "      <th>trend</th>\n",
       "      <th>yhat_lower</th>\n",
       "      <th>yhat_upper</th>\n",
       "      <th>trend_lower</th>\n",
       "      <th>trend_upper</th>\n",
       "      <th>additive_terms</th>\n",
       "      <th>additive_terms_lower</th>\n",
       "      <th>additive_terms_upper</th>\n",
       "      <th>weekly</th>\n",
       "      <th>weekly_lower</th>\n",
       "      <th>weekly_upper</th>\n",
       "      <th>yearly</th>\n",
       "      <th>yearly_lower</th>\n",
       "      <th>yearly_upper</th>\n",
       "      <th>multiplicative_terms</th>\n",
       "      <th>multiplicative_terms_lower</th>\n",
       "      <th>multiplicative_terms_upper</th>\n",
       "      <th>yhat</th>\n",
       "    </tr>\n",
       "  </thead>\n",
       "  <tbody>\n",
       "    <tr>\n",
       "      <th>0</th>\n",
       "      <td>2019-01-09</td>\n",
       "      <td>0.082502</td>\n",
       "      <td>-4.065792</td>\n",
       "      <td>4.289164</td>\n",
       "      <td>0.082502</td>\n",
       "      <td>0.082502</td>\n",
       "      <td>-0.066420</td>\n",
       "      <td>-0.066420</td>\n",
       "      <td>-0.066420</td>\n",
       "      <td>-0.049858</td>\n",
       "      <td>-0.049858</td>\n",
       "      <td>-0.049858</td>\n",
       "      <td>-0.016562</td>\n",
       "      <td>-0.016562</td>\n",
       "      <td>-0.016562</td>\n",
       "      <td>0.0</td>\n",
       "      <td>0.0</td>\n",
       "      <td>0.0</td>\n",
       "      <td>0.016082</td>\n",
       "    </tr>\n",
       "    <tr>\n",
       "      <th>1</th>\n",
       "      <td>2019-01-10</td>\n",
       "      <td>0.082140</td>\n",
       "      <td>-4.231977</td>\n",
       "      <td>4.189340</td>\n",
       "      <td>0.082140</td>\n",
       "      <td>0.082140</td>\n",
       "      <td>-0.302667</td>\n",
       "      <td>-0.302667</td>\n",
       "      <td>-0.302667</td>\n",
       "      <td>-0.291231</td>\n",
       "      <td>-0.291231</td>\n",
       "      <td>-0.291231</td>\n",
       "      <td>-0.011436</td>\n",
       "      <td>-0.011436</td>\n",
       "      <td>-0.011436</td>\n",
       "      <td>0.0</td>\n",
       "      <td>0.0</td>\n",
       "      <td>0.0</td>\n",
       "      <td>-0.220528</td>\n",
       "    </tr>\n",
       "    <tr>\n",
       "      <th>2</th>\n",
       "      <td>2019-01-11</td>\n",
       "      <td>0.081777</td>\n",
       "      <td>-4.089942</td>\n",
       "      <td>4.336503</td>\n",
       "      <td>0.081777</td>\n",
       "      <td>0.081777</td>\n",
       "      <td>-0.343831</td>\n",
       "      <td>-0.343831</td>\n",
       "      <td>-0.343831</td>\n",
       "      <td>-0.333019</td>\n",
       "      <td>-0.333019</td>\n",
       "      <td>-0.333019</td>\n",
       "      <td>-0.010812</td>\n",
       "      <td>-0.010812</td>\n",
       "      <td>-0.010812</td>\n",
       "      <td>0.0</td>\n",
       "      <td>0.0</td>\n",
       "      <td>0.0</td>\n",
       "      <td>-0.262054</td>\n",
       "    </tr>\n",
       "    <tr>\n",
       "      <th>3</th>\n",
       "      <td>2019-01-14</td>\n",
       "      <td>0.080689</td>\n",
       "      <td>-4.227162</td>\n",
       "      <td>4.188123</td>\n",
       "      <td>0.080671</td>\n",
       "      <td>0.080710</td>\n",
       "      <td>-0.024287</td>\n",
       "      <td>-0.024287</td>\n",
       "      <td>-0.024287</td>\n",
       "      <td>0.007584</td>\n",
       "      <td>0.007584</td>\n",
       "      <td>0.007584</td>\n",
       "      <td>-0.031870</td>\n",
       "      <td>-0.031870</td>\n",
       "      <td>-0.031870</td>\n",
       "      <td>0.0</td>\n",
       "      <td>0.0</td>\n",
       "      <td>0.0</td>\n",
       "      <td>0.056402</td>\n",
       "    </tr>\n",
       "    <tr>\n",
       "      <th>4</th>\n",
       "      <td>2019-01-15</td>\n",
       "      <td>0.080327</td>\n",
       "      <td>-4.184134</td>\n",
       "      <td>3.997969</td>\n",
       "      <td>0.080303</td>\n",
       "      <td>0.080355</td>\n",
       "      <td>-0.178382</td>\n",
       "      <td>-0.178382</td>\n",
       "      <td>-0.178382</td>\n",
       "      <td>-0.133793</td>\n",
       "      <td>-0.133793</td>\n",
       "      <td>-0.133793</td>\n",
       "      <td>-0.044589</td>\n",
       "      <td>-0.044589</td>\n",
       "      <td>-0.044589</td>\n",
       "      <td>0.0</td>\n",
       "      <td>0.0</td>\n",
       "      <td>0.0</td>\n",
       "      <td>-0.098056</td>\n",
       "    </tr>\n",
       "  </tbody>\n",
       "</table>\n",
       "</div>"
      ],
      "text/plain": [
       "          ds     trend  yhat_lower  yhat_upper  trend_lower  trend_upper  \\\n",
       "0 2019-01-09  0.082502   -4.065792    4.289164     0.082502     0.082502   \n",
       "1 2019-01-10  0.082140   -4.231977    4.189340     0.082140     0.082140   \n",
       "2 2019-01-11  0.081777   -4.089942    4.336503     0.081777     0.081777   \n",
       "3 2019-01-14  0.080689   -4.227162    4.188123     0.080671     0.080710   \n",
       "4 2019-01-15  0.080327   -4.184134    3.997969     0.080303     0.080355   \n",
       "\n",
       "   additive_terms  additive_terms_lower  additive_terms_upper    weekly  \\\n",
       "0       -0.066420             -0.066420             -0.066420 -0.049858   \n",
       "1       -0.302667             -0.302667             -0.302667 -0.291231   \n",
       "2       -0.343831             -0.343831             -0.343831 -0.333019   \n",
       "3       -0.024287             -0.024287             -0.024287  0.007584   \n",
       "4       -0.178382             -0.178382             -0.178382 -0.133793   \n",
       "\n",
       "   weekly_lower  weekly_upper    yearly  yearly_lower  yearly_upper  \\\n",
       "0     -0.049858     -0.049858 -0.016562     -0.016562     -0.016562   \n",
       "1     -0.291231     -0.291231 -0.011436     -0.011436     -0.011436   \n",
       "2     -0.333019     -0.333019 -0.010812     -0.010812     -0.010812   \n",
       "3      0.007584      0.007584 -0.031870     -0.031870     -0.031870   \n",
       "4     -0.133793     -0.133793 -0.044589     -0.044589     -0.044589   \n",
       "\n",
       "   multiplicative_terms  multiplicative_terms_lower  \\\n",
       "0                   0.0                         0.0   \n",
       "1                   0.0                         0.0   \n",
       "2                   0.0                         0.0   \n",
       "3                   0.0                         0.0   \n",
       "4                   0.0                         0.0   \n",
       "\n",
       "   multiplicative_terms_upper      yhat  \n",
       "0                         0.0  0.016082  \n",
       "1                         0.0 -0.220528  \n",
       "2                         0.0 -0.262054  \n",
       "3                         0.0  0.056402  \n",
       "4                         0.0 -0.098056  "
      ]
     },
     "execution_count": 142,
     "metadata": {},
     "output_type": "execute_result"
    }
   ],
   "source": [
    "forecast=model.predict(test_dates)\n",
    "forecast.head()"
   ]
  },
  {
   "cell_type": "code",
   "execution_count": 143,
   "metadata": {},
   "outputs": [],
   "source": [
    "def rebuild_diffed(series, first_element_original):\n",
    "    cumsum = series.cumsum()\n",
    "    return cumsum.fillna(0) + first_element_original"
   ]
  },
  {
   "cell_type": "code",
   "execution_count": 144,
   "metadata": {},
   "outputs": [],
   "source": [
    "my_pred = test_dates.tail(138)\n",
    "y_pred=forecast['yhat']\n",
    "restore= pd.concat([train_diff.y, y_pred])\n",
    "rebuild= rebuild_diffed(restore, train_data.y[0])\n"
   ]
  },
  {
   "cell_type": "code",
   "execution_count": 145,
   "metadata": {},
   "outputs": [
    {
     "data": {
      "text/html": [
       "<div>\n",
       "<style scoped>\n",
       "    .dataframe tbody tr th:only-of-type {\n",
       "        vertical-align: middle;\n",
       "    }\n",
       "\n",
       "    .dataframe tbody tr th {\n",
       "        vertical-align: top;\n",
       "    }\n",
       "\n",
       "    .dataframe thead th {\n",
       "        text-align: right;\n",
       "    }\n",
       "</style>\n",
       "<table border=\"1\" class=\"dataframe\">\n",
       "  <thead>\n",
       "    <tr style=\"text-align: right;\">\n",
       "      <th></th>\n",
       "      <th>val</th>\n",
       "    </tr>\n",
       "    <tr>\n",
       "      <th>ds</th>\n",
       "      <th></th>\n",
       "    </tr>\n",
       "  </thead>\n",
       "  <tbody>\n",
       "    <tr>\n",
       "      <th>2019-07-22</th>\n",
       "      <td>144.342555</td>\n",
       "    </tr>\n",
       "    <tr>\n",
       "      <th>2019-07-23</th>\n",
       "      <td>144.425035</td>\n",
       "    </tr>\n",
       "    <tr>\n",
       "      <th>2019-07-24</th>\n",
       "      <td>144.582302</td>\n",
       "    </tr>\n",
       "    <tr>\n",
       "      <th>2019-07-25</th>\n",
       "      <td>144.490943</td>\n",
       "    </tr>\n",
       "    <tr>\n",
       "      <th>2019-07-26</th>\n",
       "      <td>144.352654</td>\n",
       "    </tr>\n",
       "  </tbody>\n",
       "</table>\n",
       "</div>"
      ],
      "text/plain": [
       "                   val\n",
       "ds                    \n",
       "2019-07-22  144.342555\n",
       "2019-07-23  144.425035\n",
       "2019-07-24  144.582302\n",
       "2019-07-25  144.490943\n",
       "2019-07-26  144.352654"
      ]
     },
     "execution_count": 145,
     "metadata": {},
     "output_type": "execute_result"
    }
   ],
   "source": [
    "my_pred['val'] = rebuild.tail(138).values\n",
    "\n",
    "my_pred.set_index('ds', inplace=True)\n",
    "my_pred.tail()"
   ]
  },
  {
   "cell_type": "code",
   "execution_count": 146,
   "metadata": {},
   "outputs": [
    {
     "name": "stdout",
     "output_type": "stream",
     "text": [
      "MSE of prophet forecast is:  35141.61937073615\n"
     ]
    },
    {
     "data": {
      "image/png": "[encoded data removed]",
      "text/plain": [
       "<Figure size 432x288 with 1 Axes>"
      ]
     },
     "metadata": {},
     "output_type": "display_data"
    }
   ],
   "source": [
    "plt.plot(my_pred, label='Predictioin')\n",
    "plt.plot(test_data, label='Actual')\n",
    "plt.legend()\n",
    "\n",
    "mse=mean_squared_error(test_y, forecast.yhat)\n",
    "print ('MSE of prophet forecast is: ', mse)"
   ]
  },
  {
   "cell_type": "code",
   "execution_count": null,
   "metadata": {},
   "outputs": [],
   "source": []
  }
 ],
 "metadata": {
  "kernelspec": {
   "display_name": "stan_env",
   "language": "python",
   "name": "stan_env"
  },
  "language_info": {
   "codemirror_mode": {
    "name": "ipython",
    "version": 3
   },
   "file_extension": ".py",
   "mimetype": "text/x-python",
   "name": "python",
   "nbconvert_exporter": "python",
   "pygments_lexer": "ipython3",
   "version": "3.6.8"
  }
 },
 "nbformat": 4,
 "nbformat_minor": 2
}
