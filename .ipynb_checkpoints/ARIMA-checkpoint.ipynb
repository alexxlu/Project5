{
 "cells": [
  {
   "cell_type": "code",
   "execution_count": 1,
   "metadata": {},
   "outputs": [],
   "source": [
    "from pandas import read_csv\n",
    "from datetime import datetime\n",
    "\n",
    "\n",
    "from sklearn.preprocessing import MinMaxScaler\n",
    "from sklearn.metrics import mean_squared_error\n",
    "\n",
    "import pandas as pd\n",
    "from pandas.plotting import autocorrelation_plot\n",
    "from matplotlib import pyplot\n",
    "from statsmodels.tsa.arima_model import ARIMA\n",
    "import statsmodels.api as sm"
   ]
  },
  {
   "cell_type": "code",
   "execution_count": 2,
   "metadata": {},
   "outputs": [
    {
     "data": {
      "text/html": [
       "<div>\n",
       "<style scoped>\n",
       "    .dataframe tbody tr th:only-of-type {\n",
       "        vertical-align: middle;\n",
       "    }\n",
       "\n",
       "    .dataframe tbody tr th {\n",
       "        vertical-align: top;\n",
       "    }\n",
       "\n",
       "    .dataframe thead th {\n",
       "        text-align: right;\n",
       "    }\n",
       "</style>\n",
       "<table border=\"1\" class=\"dataframe\">\n",
       "  <thead>\n",
       "    <tr style=\"text-align: right;\">\n",
       "      <th></th>\n",
       "      <th>Date</th>\n",
       "      <th>Open Price</th>\n",
       "      <th>Last Price</th>\n",
       "      <th>Financial Leverage</th>\n",
       "      <th>Volume</th>\n",
       "      <th>PE RATIO</th>\n",
       "      <th>Cash Flow Per Share</th>\n",
       "      <th>Price to Book Ratio</th>\n",
       "      <th>Dividend Per Share</th>\n",
       "      <th>SPX</th>\n",
       "      <th>VIX</th>\n",
       "      <th>PPUT</th>\n",
       "    </tr>\n",
       "  </thead>\n",
       "  <tbody>\n",
       "    <tr>\n",
       "      <th>0</th>\n",
       "      <td>2014-02-03</td>\n",
       "      <td>71.8014</td>\n",
       "      <td>71.6471</td>\n",
       "      <td>1.7067</td>\n",
       "      <td>100620772</td>\n",
       "      <td>12.4425</td>\n",
       "      <td>3.6142</td>\n",
       "      <td>3.4514</td>\n",
       "      <td>0.4357</td>\n",
       "      <td>1741.89</td>\n",
       "      <td>21.44</td>\n",
       "      <td>593.43</td>\n",
       "    </tr>\n",
       "    <tr>\n",
       "      <th>1</th>\n",
       "      <td>2014-02-04</td>\n",
       "      <td>72.2643</td>\n",
       "      <td>72.6843</td>\n",
       "      <td>1.7067</td>\n",
       "      <td>94273543</td>\n",
       "      <td>12.6226</td>\n",
       "      <td>3.6142</td>\n",
       "      <td>3.5013</td>\n",
       "      <td>0.4357</td>\n",
       "      <td>1755.20</td>\n",
       "      <td>19.11</td>\n",
       "      <td>594.46</td>\n",
       "    </tr>\n",
       "    <tr>\n",
       "      <th>2</th>\n",
       "      <td>2014-02-05</td>\n",
       "      <td>72.3657</td>\n",
       "      <td>73.2271</td>\n",
       "      <td>1.7067</td>\n",
       "      <td>82322156</td>\n",
       "      <td>12.7169</td>\n",
       "      <td>3.6142</td>\n",
       "      <td>3.5275</td>\n",
       "      <td>0.4357</td>\n",
       "      <td>1751.64</td>\n",
       "      <td>19.95</td>\n",
       "      <td>594.10</td>\n",
       "    </tr>\n",
       "    <tr>\n",
       "      <th>3</th>\n",
       "      <td>2014-02-06</td>\n",
       "      <td>72.8657</td>\n",
       "      <td>73.2157</td>\n",
       "      <td>1.7067</td>\n",
       "      <td>64497223</td>\n",
       "      <td>12.7149</td>\n",
       "      <td>3.6142</td>\n",
       "      <td>3.5269</td>\n",
       "      <td>0.4357</td>\n",
       "      <td>1773.43</td>\n",
       "      <td>17.23</td>\n",
       "      <td>597.95</td>\n",
       "    </tr>\n",
       "    <tr>\n",
       "      <th>4</th>\n",
       "      <td>2014-02-07</td>\n",
       "      <td>74.4829</td>\n",
       "      <td>74.2400</td>\n",
       "      <td>1.7067</td>\n",
       "      <td>93638601</td>\n",
       "      <td>12.8928</td>\n",
       "      <td>3.6142</td>\n",
       "      <td>3.5763</td>\n",
       "      <td>0.4357</td>\n",
       "      <td>1797.02</td>\n",
       "      <td>15.29</td>\n",
       "      <td>603.01</td>\n",
       "    </tr>\n",
       "  </tbody>\n",
       "</table>\n",
       "</div>"
      ],
      "text/plain": [
       "        Date  Open Price  Last Price  Financial Leverage     Volume  PE RATIO  \\\n",
       "0 2014-02-03     71.8014     71.6471              1.7067  100620772   12.4425   \n",
       "1 2014-02-04     72.2643     72.6843              1.7067   94273543   12.6226   \n",
       "2 2014-02-05     72.3657     73.2271              1.7067   82322156   12.7169   \n",
       "3 2014-02-06     72.8657     73.2157              1.7067   64497223   12.7149   \n",
       "4 2014-02-07     74.4829     74.2400              1.7067   93638601   12.8928   \n",
       "\n",
       "   Cash Flow Per Share  Price to Book Ratio  Dividend Per Share      SPX  \\\n",
       "0               3.6142               3.4514              0.4357  1741.89   \n",
       "1               3.6142               3.5013              0.4357  1755.20   \n",
       "2               3.6142               3.5275              0.4357  1751.64   \n",
       "3               3.6142               3.5269              0.4357  1773.43   \n",
       "4               3.6142               3.5763              0.4357  1797.02   \n",
       "\n",
       "     VIX    PPUT  \n",
       "0  21.44  593.43  \n",
       "1  19.11  594.46  \n",
       "2  19.95  594.10  \n",
       "3  17.23  597.95  \n",
       "4  15.29  603.01  "
      ]
     },
     "execution_count": 2,
     "metadata": {},
     "output_type": "execute_result"
    }
   ],
   "source": [
    "data=pd.read_excel('US Data.xlsx')\n",
    "data.head()"
   ]
  },
  {
   "cell_type": "code",
   "execution_count": 19,
   "metadata": {},
   "outputs": [
    {
     "data": {
      "image/png": "[encoded data removed]",
      "text/plain": [
       "<Figure size 432x288 with 1 Axes>"
      ]
     },
     "metadata": {
      "needs_background": "light"
     },
     "output_type": "display_data"
    }
   ],
   "source": [
    "ts=data[['Date','Last Price']]\n",
    "ts.set_index('Date', inplace=True)\n",
    "autocorrelation_plot(ts.head(100))\n",
    "pyplot.show()\n"
   ]
  },
  {
   "cell_type": "code",
   "execution_count": 23,
   "metadata": {},
   "outputs": [],
   "source": [
    "train=int(len(ts)*0.9)\n",
    "train_data=ts[:train]\n",
    "test_data=ts[train:]\n"
   ]
  },
  {
   "cell_type": "code",
   "execution_count": 24,
   "metadata": {},
   "outputs": [
    {
     "ename": "ModuleNotFoundError",
     "evalue": "No module named 'pyramid'",
     "output_type": "error",
     "traceback": [
      "\u001b[0;31m---------------------------------------------------------------------------\u001b[0m",
      "\u001b[0;31mModuleNotFoundError\u001b[0m                       Traceback (most recent call last)",
      "\u001b[0;32m<ipython-input-24-d6875795122d>\u001b[0m in \u001b[0;36m<module>\u001b[0;34m\u001b[0m\n\u001b[1;32m      1\u001b[0m \u001b[0;34m\u001b[0m\u001b[0m\n\u001b[0;32m----> 2\u001b[0;31m \u001b[0;32mfrom\u001b[0m \u001b[0mpyramid\u001b[0m\u001b[0;34m.\u001b[0m\u001b[0marima\u001b[0m \u001b[0;32mimport\u001b[0m \u001b[0mauto_arima\u001b[0m\u001b[0;34m\u001b[0m\u001b[0;34m\u001b[0m\u001b[0m\n\u001b[0m\u001b[1;32m      3\u001b[0m \u001b[0mmodel_arima\u001b[0m \u001b[0;34m=\u001b[0m \u001b[0mauto_arima\u001b[0m\u001b[0;34m(\u001b[0m\u001b[0mtrain_data\u001b[0m\u001b[0;34m,\u001b[0m \u001b[0mtrace\u001b[0m\u001b[0;34m=\u001b[0m\u001b[0;32mTrue\u001b[0m\u001b[0;34m,\u001b[0m \u001b[0merror_action\u001b[0m\u001b[0;34m=\u001b[0m\u001b[0;34m'ignore'\u001b[0m\u001b[0;34m,\u001b[0m \u001b[0msuppress_warnings\u001b[0m\u001b[0;34m=\u001b[0m\u001b[0;32mTrue\u001b[0m\u001b[0;34m)\u001b[0m\u001b[0;34m\u001b[0m\u001b[0;34m\u001b[0m\u001b[0m\n\u001b[1;32m      4\u001b[0m \u001b[0mmodel_arima\u001b[0m\u001b[0;34m.\u001b[0m\u001b[0mfit\u001b[0m\u001b[0;34m(\u001b[0m\u001b[0mtrain_data\u001b[0m\u001b[0;34m)\u001b[0m\u001b[0;34m\u001b[0m\u001b[0;34m\u001b[0m\u001b[0m\n\u001b[1;32m      5\u001b[0m \u001b[0mforecast\u001b[0m \u001b[0;34m=\u001b[0m \u001b[0mmodel_arima\u001b[0m\u001b[0;34m.\u001b[0m\u001b[0mpredict\u001b[0m\u001b[0;34m(\u001b[0m\u001b[0mn_periods\u001b[0m\u001b[0;34m=\u001b[0m\u001b[0mlen\u001b[0m\u001b[0;34m(\u001b[0m\u001b[0mtest_data\u001b[0m\u001b[0;34m)\u001b[0m\u001b[0;34m)\u001b[0m\u001b[0;34m\u001b[0m\u001b[0;34m\u001b[0m\u001b[0m\n",
      "\u001b[0;31mModuleNotFoundError\u001b[0m: No module named 'pyramid'"
     ]
    }
   ],
   "source": [
    "\n",
    "from pyramid.arima import auto_arima\n",
    "model_arima = auto_arima(train_data, trace=True, error_action='ignore', suppress_warnings=True)\n",
    "model_arima.fit(train_data)\n",
    "forecast = model_arima.predict(n_periods=len(test_data))\n",
    "forecast = pd.DataFrame(forecast,index = test_data.index,columns=['Prediction'])\n",
    "\n",
    "#plot the predictions for validation set\n",
    "plt.plot(train_data, label='Train')\n",
    "plt.plot(test_data, label='Test')\n",
    "plt.plot(forecast, label='Prediction')\n",
    "plt.show()\n"
   ]
  },
  {
   "cell_type": "code",
   "execution_count": 10,
   "metadata": {},
   "outputs": [
    {
     "data": {
      "image/png": "[encoded data removed]",
      "text/plain": [
       "<Figure size 432x288 with 1 Axes>"
      ]
     },
     "metadata": {
      "needs_background": "light"
     },
     "output_type": "display_data"
    },
    {
     "data": {
      "image/png": "[encoded data removed]",
      "text/plain": [
       "<Figure size 432x288 with 1 Axes>"
      ]
     },
     "metadata": {
      "needs_background": "light"
     },
     "output_type": "display_data"
    },
    {
     "name": "stdout",
     "output_type": "stream",
     "text": [
      "                 0\n",
      "count  1379.000000\n",
      "mean     -0.004039\n",
      "std       2.187413\n",
      "min     -15.254386\n",
      "25%      -0.936488\n",
      "50%      -0.069144\n",
      "75%       1.052250\n",
      "max      10.736105\n"
     ]
    }
   ],
   "source": [
    "# plot residual errors\n",
    "residuals = pd.DataFrame(model_fit.resid)\n",
    "residuals.plot()\n",
    "pyplot.show()\n",
    "residuals.plot(kind='kde')\n",
    "pyplot.show()\n",
    "print(residuals.describe())"
   ]
  },
  {
   "cell_type": "code",
   "execution_count": 15,
   "metadata": {},
   "outputs": [],
   "source": [
    " pred=model_fit.predict(100)"
   ]
  },
  {
   "cell_type": "code",
   "execution_count": 16,
   "metadata": {},
   "outputs": [
    {
     "data": {
      "text/plain": [
       "Date\n",
       "2014-06-26   -0.193567\n",
       "2014-06-27    0.416840\n",
       "2014-06-30   -0.250455\n",
       "2014-07-01   -0.006344\n",
       "2014-07-02    0.157529\n",
       "2014-07-03   -0.058142\n",
       "2014-07-07    0.285442\n",
       "2014-07-08   -0.284715\n",
       "2014-07-09    0.026691\n",
       "2014-07-10    0.078995\n",
       "2014-07-11    0.111607\n",
       "2014-07-14    0.206436\n",
       "2014-07-15   -0.021907\n",
       "2014-07-16    0.174898\n",
       "2014-07-17   -0.250765\n",
       "2014-07-18    0.171259\n",
       "2014-07-21    0.075188\n",
       "2014-07-22   -0.070375\n",
       "2014-07-23    0.318581\n",
       "2014-07-24   -0.193931\n",
       "2014-07-25    0.146461\n",
       "2014-07-28   -0.228332\n",
       "2014-07-29    0.272085\n",
       "2014-07-30    0.079293\n",
       "2014-07-31    0.048953\n",
       "2014-08-01    0.235076\n",
       "2014-08-04   -0.115036\n",
       "2014-08-05    0.286949\n",
       "2014-08-06    0.133728\n",
       "2014-08-07   -0.041279\n",
       "                ...   \n",
       "2019-06-14    0.207775\n",
       "2019-06-17    0.303567\n",
       "2019-06-18    0.648682\n",
       "2019-06-19   -0.306034\n",
       "2019-06-20    0.813251\n",
       "2019-06-21   -0.465827\n",
       "2019-06-24    0.723423\n",
       "2019-06-25   -0.161514\n",
       "2019-06-26   -0.460382\n",
       "2019-06-27    1.561984\n",
       "2019-06-28   -0.415265\n",
       "2019-07-01    0.628704\n",
       "2019-07-02    0.503900\n",
       "2019-07-03    0.356223\n",
       "2019-07-05    0.184850\n",
       "2019-07-08    0.278991\n",
       "2019-07-09   -0.097834\n",
       "2019-07-10   -0.132651\n",
       "2019-07-11    0.734442\n",
       "2019-07-12    0.061488\n",
       "2019-07-15    0.426437\n",
       "2019-07-16    0.027453\n",
       "2019-07-17   -0.207920\n",
       "2019-07-18    0.372444\n",
       "2019-07-19   -0.303352\n",
       "2019-07-22    0.226299\n",
       "2019-07-23    0.420906\n",
       "2019-07-24   -0.222961\n",
       "2019-07-25   -0.082118\n",
       "2019-07-26    0.378145\n",
       "Length: 1280, dtype: float64"
      ]
     },
     "execution_count": 16,
     "metadata": {},
     "output_type": "execute_result"
    }
   ],
   "source": [
    "pred"
   ]
  },
  {
   "cell_type": "code",
   "execution_count": null,
   "metadata": {},
   "outputs": [],
   "source": []
  }
 ],
 "metadata": {
  "kernelspec": {
   "display_name": "stan_env",
   "language": "python",
   "name": "stan_env"
  },
  "language_info": {
   "codemirror_mode": {
    "name": "ipython",
    "version": 3
   },
   "file_extension": ".py",
   "mimetype": "text/x-python",
   "name": "python",
   "nbconvert_exporter": "python",
   "pygments_lexer": "ipython3",
   "version": "3.6.8"
  }
 },
 "nbformat": 4,
 "nbformat_minor": 2
}
