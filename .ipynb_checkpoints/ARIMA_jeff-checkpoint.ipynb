{
 "cells": [
  {
   "cell_type": "code",
   "execution_count": 1,
   "metadata": {},
   "outputs": [],
   "source": [
    "from pandas import read_csv\n",
    "from datetime import datetime\n",
    "\n",
    "\n",
    "from sklearn.preprocessing import MinMaxScaler\n",
    "from sklearn.metrics import mean_squared_error\n",
    "\n",
    "import pandas as pd\n",
    "from pandas.plotting import autocorrelation_plot\n",
    "from matplotlib import pyplot\n",
    "from statsmodels.tsa.arima_model import ARIMA\n",
    "import statsmodels.api as sm"
   ]
  },
  {
   "cell_type": "code",
   "execution_count": 2,
   "metadata": {},
   "outputs": [
    {
     "data": {
      "text/html": [
       "<div>\n",
       "<style scoped>\n",
       "    .dataframe tbody tr th:only-of-type {\n",
       "        vertical-align: middle;\n",
       "    }\n",
       "\n",
       "    .dataframe tbody tr th {\n",
       "        vertical-align: top;\n",
       "    }\n",
       "\n",
       "    .dataframe thead th {\n",
       "        text-align: right;\n",
       "    }\n",
       "</style>\n",
       "<table border=\"1\" class=\"dataframe\">\n",
       "  <thead>\n",
       "    <tr style=\"text-align: right;\">\n",
       "      <th></th>\n",
       "      <th>Date</th>\n",
       "      <th>Open Price</th>\n",
       "      <th>Last Price</th>\n",
       "      <th>Financial Leverage</th>\n",
       "      <th>Volume</th>\n",
       "      <th>PE RATIO</th>\n",
       "      <th>Cash Flow Per Share</th>\n",
       "      <th>Price to Book Ratio</th>\n",
       "      <th>Dividend Per Share</th>\n",
       "      <th>SPX</th>\n",
       "      <th>VIX</th>\n",
       "      <th>PPUT</th>\n",
       "    </tr>\n",
       "  </thead>\n",
       "  <tbody>\n",
       "    <tr>\n",
       "      <th>0</th>\n",
       "      <td>2014-02-03</td>\n",
       "      <td>71.8014</td>\n",
       "      <td>71.6471</td>\n",
       "      <td>1.7067</td>\n",
       "      <td>100620772</td>\n",
       "      <td>12.4425</td>\n",
       "      <td>3.6142</td>\n",
       "      <td>3.4514</td>\n",
       "      <td>0.4357</td>\n",
       "      <td>1741.89</td>\n",
       "      <td>21.44</td>\n",
       "      <td>593.43</td>\n",
       "    </tr>\n",
       "    <tr>\n",
       "      <th>1</th>\n",
       "      <td>2014-02-04</td>\n",
       "      <td>72.2643</td>\n",
       "      <td>72.6843</td>\n",
       "      <td>1.7067</td>\n",
       "      <td>94273543</td>\n",
       "      <td>12.6226</td>\n",
       "      <td>3.6142</td>\n",
       "      <td>3.5013</td>\n",
       "      <td>0.4357</td>\n",
       "      <td>1755.20</td>\n",
       "      <td>19.11</td>\n",
       "      <td>594.46</td>\n",
       "    </tr>\n",
       "    <tr>\n",
       "      <th>2</th>\n",
       "      <td>2014-02-05</td>\n",
       "      <td>72.3657</td>\n",
       "      <td>73.2271</td>\n",
       "      <td>1.7067</td>\n",
       "      <td>82322156</td>\n",
       "      <td>12.7169</td>\n",
       "      <td>3.6142</td>\n",
       "      <td>3.5275</td>\n",
       "      <td>0.4357</td>\n",
       "      <td>1751.64</td>\n",
       "      <td>19.95</td>\n",
       "      <td>594.10</td>\n",
       "    </tr>\n",
       "    <tr>\n",
       "      <th>3</th>\n",
       "      <td>2014-02-06</td>\n",
       "      <td>72.8657</td>\n",
       "      <td>73.2157</td>\n",
       "      <td>1.7067</td>\n",
       "      <td>64497223</td>\n",
       "      <td>12.7149</td>\n",
       "      <td>3.6142</td>\n",
       "      <td>3.5269</td>\n",
       "      <td>0.4357</td>\n",
       "      <td>1773.43</td>\n",
       "      <td>17.23</td>\n",
       "      <td>597.95</td>\n",
       "    </tr>\n",
       "    <tr>\n",
       "      <th>4</th>\n",
       "      <td>2014-02-07</td>\n",
       "      <td>74.4829</td>\n",
       "      <td>74.2400</td>\n",
       "      <td>1.7067</td>\n",
       "      <td>93638601</td>\n",
       "      <td>12.8928</td>\n",
       "      <td>3.6142</td>\n",
       "      <td>3.5763</td>\n",
       "      <td>0.4357</td>\n",
       "      <td>1797.02</td>\n",
       "      <td>15.29</td>\n",
       "      <td>603.01</td>\n",
       "    </tr>\n",
       "  </tbody>\n",
       "</table>\n",
       "</div>"
      ],
      "text/plain": [
       "        Date  Open Price  Last Price  Financial Leverage     Volume  PE RATIO  \\\n",
       "0 2014-02-03     71.8014     71.6471              1.7067  100620772   12.4425   \n",
       "1 2014-02-04     72.2643     72.6843              1.7067   94273543   12.6226   \n",
       "2 2014-02-05     72.3657     73.2271              1.7067   82322156   12.7169   \n",
       "3 2014-02-06     72.8657     73.2157              1.7067   64497223   12.7149   \n",
       "4 2014-02-07     74.4829     74.2400              1.7067   93638601   12.8928   \n",
       "\n",
       "   Cash Flow Per Share  Price to Book Ratio  Dividend Per Share      SPX  \\\n",
       "0               3.6142               3.4514              0.4357  1741.89   \n",
       "1               3.6142               3.5013              0.4357  1755.20   \n",
       "2               3.6142               3.5275              0.4357  1751.64   \n",
       "3               3.6142               3.5269              0.4357  1773.43   \n",
       "4               3.6142               3.5763              0.4357  1797.02   \n",
       "\n",
       "     VIX    PPUT  \n",
       "0  21.44  593.43  \n",
       "1  19.11  594.46  \n",
       "2  19.95  594.10  \n",
       "3  17.23  597.95  \n",
       "4  15.29  603.01  "
      ]
     },
     "execution_count": 2,
     "metadata": {},
     "output_type": "execute_result"
    }
   ],
   "source": [
    "data=pd.read_excel('US Data.xlsx')\n",
    "data.head()"
   ]
  },
  {
   "cell_type": "code",
   "execution_count": 3,
   "metadata": {},
   "outputs": [
    {
     "data": {
      "image/png": "[encoded data removed]",
      "text/plain": [
       "<Figure size 432x288 with 1 Axes>"
      ]
     },
     "metadata": {
      "needs_background": "light"
     },
     "output_type": "display_data"
    }
   ],
   "source": [
    "ts=data[['Date','Last Price']]\n",
    "ts.set_index('Date', inplace=True)\n",
    "autocorrelation_plot(ts.head(100))\n",
    "pyplot.show()\n"
   ]
  },
  {
   "cell_type": "code",
   "execution_count": 5,
   "metadata": {},
   "outputs": [
    {
     "data": {
      "text/plain": [
       "(1380,)"
      ]
     },
     "execution_count": 5,
     "metadata": {},
     "output_type": "execute_result"
    }
   ],
   "source": [
    "ts['Last Price'].values.shape"
   ]
  },
  {
   "cell_type": "code",
   "execution_count": 4,
   "metadata": {},
   "outputs": [
    {
     "data": {
      "text/plain": [
       "(1380, 1)"
      ]
     },
     "execution_count": 4,
     "metadata": {},
     "output_type": "execute_result"
    }
   ],
   "source": [
    "ts.values.shape"
   ]
  },
  {
   "cell_type": "code",
   "execution_count": 6,
   "metadata": {},
   "outputs": [
    {
     "name": "stdout",
     "output_type": "stream",
     "text": [
      "ADF Statistic: -0.910913\n",
      "p-value: 0.784358\n"
     ]
    }
   ],
   "source": [
    "from statsmodels.tsa.stattools import adfuller\n",
    "\n",
    "result = adfuller(ts['Last Price'].values)\n",
    "print('ADF Statistic: %f' % result[0])\n",
    "print('p-value: %f' % result[1])\n"
   ]
  },
  {
   "cell_type": "code",
   "execution_count": 7,
   "metadata": {},
   "outputs": [],
   "source": [
    "train=int(len(ts)*0.9)\n",
    "train_data=ts[:train]\n",
    "test_data=ts[train:]\n"
   ]
  },
  {
   "cell_type": "code",
   "execution_count": 8,
   "metadata": {},
   "outputs": [
    {
     "data": {
      "text/plain": [
       "(1242, 1)"
      ]
     },
     "execution_count": 8,
     "metadata": {},
     "output_type": "execute_result"
    }
   ],
   "source": [
    "train_data.shape"
   ]
  },
  {
   "cell_type": "code",
   "execution_count": 9,
   "metadata": {},
   "outputs": [
    {
     "name": "stderr",
     "output_type": "stream",
     "text": [
      "/Users/jeffreyherman/anaconda3/envs/learn-env/lib/python3.6/site-packages/statsmodels/tsa/base/tsa_model.py:225: ValueWarning: A date index has been provided, but it has no associated frequency information and so will be ignored when e.g. forecasting.\n",
      "  ' ignored when e.g. forecasting.', ValueWarning)\n",
      "/Users/jeffreyherman/anaconda3/envs/learn-env/lib/python3.6/site-packages/statsmodels/tsa/base/tsa_model.py:225: ValueWarning: A date index has been provided, but it has no associated frequency information and so will be ignored when e.g. forecasting.\n",
      "  ' ignored when e.g. forecasting.', ValueWarning)\n",
      "/Users/jeffreyherman/anaconda3/envs/learn-env/lib/python3.6/site-packages/statsmodels/base/model.py:488: HessianInversionWarning: Inverting hessian failed, no bse or cov_params available\n",
      "  'available', HessianInversionWarning)\n",
      "/Users/jeffreyherman/anaconda3/envs/learn-env/lib/python3.6/site-packages/statsmodels/base/model.py:508: ConvergenceWarning: Maximum Likelihood optimization failed to converge. Check mle_retvals\n",
      "  \"Check mle_retvals\", ConvergenceWarning)\n"
     ]
    },
    {
     "name": "stdout",
     "output_type": "stream",
     "text": [
      "                             ARIMA Model Results                              \n",
      "==============================================================================\n",
      "Dep. Variable:          D2.Last Price   No. Observations:                 1240\n",
      "Model:                ARIMA(5, 2, 10)   Log Likelihood               -2697.177\n",
      "Method:                       css-mle   S.D. of innovations              2.123\n",
      "Date:                Wed, 09 Oct 2019   AIC                           5428.354\n",
      "Time:                        14:33:24   BIC                           5515.442\n",
      "Sample:                             2   HQIC                          5461.106\n",
      "                                                                              \n",
      "========================================================================================\n",
      "                           coef    std err          z      P>|z|      [0.025      0.975]\n",
      "----------------------------------------------------------------------------------------\n",
      "const                   -0.0002      0.000     -1.384      0.167      -0.001    9.75e-05\n",
      "ar.L1.D2.Last Price     -1.2278      0.519     -2.364      0.018      -2.246      -0.210\n",
      "ar.L2.D2.Last Price     -0.8564      0.528     -1.622      0.105      -1.891       0.178\n",
      "ar.L3.D2.Last Price     -1.1880      0.329     -3.613      0.000      -1.833      -0.543\n",
      "ar.L4.D2.Last Price     -1.1465      0.545     -2.105      0.035      -2.214      -0.079\n",
      "ar.L5.D2.Last Price     -0.2077      0.481     -0.432      0.666      -1.151       0.735\n",
      "ma.L1.D2.Last Price      0.2400      0.519      0.463      0.644      -0.777       1.257\n",
      "ma.L2.D2.Last Price     -0.3999      0.059     -6.738      0.000      -0.516      -0.284\n",
      "ma.L3.D2.Last Price      0.2975      0.223      1.332      0.183      -0.140       0.735\n",
      "ma.L4.D2.Last Price     -0.0018      0.209     -0.009      0.993      -0.410       0.407\n",
      "ma.L5.D2.Last Price     -0.9374      0.065    -14.447      0.000      -1.065      -0.810\n",
      "ma.L6.D2.Last Price     -0.2505      0.475     -0.528      0.598      -1.181       0.680\n",
      "ma.L7.D2.Last Price      0.0880      0.039      2.247      0.025       0.011       0.165\n",
      "ma.L8.D2.Last Price      0.0266      0.058      0.459      0.646      -0.087       0.140\n",
      "ma.L9.D2.Last Price     -0.0543      0.034     -1.618      0.106      -0.120       0.011\n",
      "ma.L10.D2.Last Price     0.0082      0.048      0.172      0.863      -0.085       0.102\n",
      "                                    Roots                                     \n",
      "==============================================================================\n",
      "                   Real          Imaginary           Modulus         Frequency\n",
      "------------------------------------------------------------------------------\n",
      "AR.1             0.3719           -0.9334j            1.0048           -0.1897\n",
      "AR.2             0.3719           +0.9334j            1.0048            0.1897\n",
      "AR.3            -0.9473           -0.4406j            1.0448           -0.4307\n",
      "AR.4            -0.9473           +0.4406j            1.0448            0.4307\n",
      "AR.5            -4.3686           -0.0000j            4.3686           -0.5000\n",
      "MA.1             1.0030           -0.0000j            1.0030           -0.0000\n",
      "MA.2             0.3618           -0.9337j            1.0013           -0.1912\n",
      "MA.3             0.3618           +0.9337j            1.0013            0.1912\n",
      "MA.4            -0.9739           -0.4372j            1.0675           -0.4328\n",
      "MA.5            -0.9739           +0.4372j            1.0675            0.4328\n",
      "MA.6            -1.3008           -1.0254j            1.6564           -0.3938\n",
      "MA.7            -1.3008           +1.0254j            1.6564            0.3938\n",
      "MA.8             1.7158           -1.8724j            2.5397           -0.1319\n",
      "MA.9             1.7158           +1.8724j            2.5397            0.1319\n",
      "MA.10            5.9959           -0.0000j            5.9959           -0.0000\n",
      "------------------------------------------------------------------------------\n"
     ]
    },
    {
     "data": {
      "image/png": "[encoded data removed]",
      "text/plain": [
       "<Figure size 432x288 with 1 Axes>"
      ]
     },
     "metadata": {
      "needs_background": "light"
     },
     "output_type": "display_data"
    }
   ],
   "source": [
    "model=ARIMA(train_data, order=(5,2,10))\n",
    "m_fit=model.fit()\n",
    "print(m_fit.summary())\n",
    "forecast=m_fit.predict(len(test_data))\n",
    "pyplot.plot(test_data, label='Test')\n",
    "pyplot.plot(forecast, label='Prediction')\n",
    "pyplot.legend()\n",
    "pyplot.show()"
   ]
  },
  {
   "cell_type": "code",
   "execution_count": 14,
   "metadata": {},
   "outputs": [
    {
     "data": {
      "text/plain": [
       "Date\n",
       "2014-08-20    -1.267017\n",
       "2014-08-21    -0.006222\n",
       "2014-08-22     0.058639\n",
       "2014-08-25    -0.424254\n",
       "2014-08-26     0.077853\n",
       "2014-08-27     0.881591\n",
       "2014-08-28    -1.061489\n",
       "2014-08-29    -0.108381\n",
       "2014-09-02    -0.092248\n",
       "2014-09-03    -0.423207\n",
       "2014-09-04     4.557420\n",
       "2014-09-05     1.012197\n",
       "2014-09-08    -0.562010\n",
       "2014-09-09     0.570707\n",
       "2014-09-10     0.629886\n",
       "2014-09-11    -2.530631\n",
       "2014-09-12    -0.660570\n",
       "2014-09-15    -0.174843\n",
       "2014-09-16     0.241943\n",
       "2014-09-17     1.042038\n",
       "2014-09-18    -0.378233\n",
       "2014-09-19    -0.062475\n",
       "2014-09-22     0.828160\n",
       "2014-09-23    -0.003885\n",
       "2014-09-24    -1.208314\n",
       "2014-09-25     0.978558\n",
       "2014-09-26     4.100496\n",
       "2014-09-29    -2.621528\n",
       "2014-09-30     0.634345\n",
       "2014-10-01    -0.572190\n",
       "                ...    \n",
       "2018-11-23     1.213991\n",
       "2018-11-26     5.364577\n",
       "2018-11-27    -2.687435\n",
       "2018-11-28    -0.273114\n",
       "2018-11-29    -7.559154\n",
       "2018-11-30     1.546458\n",
       "2018-12-03     1.992013\n",
       "2018-12-04    -6.146600\n",
       "2018-12-06     7.453798\n",
       "2018-12-07     0.893129\n",
       "2018-12-10     7.209160\n",
       "2018-12-11    -0.429342\n",
       "2018-12-12     1.158707\n",
       "2018-12-13    -0.536976\n",
       "2018-12-14    -3.505649\n",
       "2018-12-17     5.900091\n",
       "2018-12-18     1.722077\n",
       "2018-12-19    -0.912913\n",
       "2018-12-20     4.633765\n",
       "2018-12-21     2.862589\n",
       "2018-12-24     6.596549\n",
       "2018-12-26     3.558878\n",
       "2018-12-27    -8.708756\n",
       "2018-12-28     0.273377\n",
       "2018-12-31    -1.157252\n",
       "2019-01-02    -1.755548\n",
       "2019-01-03    -0.586850\n",
       "2019-01-04    16.420201\n",
       "2019-01-07    -4.936884\n",
       "2019-01-08    -0.126172\n",
       "Length: 1104, dtype: float64"
      ]
     },
     "execution_count": 14,
     "metadata": {},
     "output_type": "execute_result"
    }
   ],
   "source": [
    "forecast"
   ]
  },
  {
   "cell_type": "code",
   "execution_count": 10,
   "metadata": {},
   "outputs": [
    {
     "name": "stderr",
     "output_type": "stream",
     "text": [
      "/Users/jeffreyherman/anaconda3/envs/learn-env/lib/python3.6/site-packages/statsmodels/tsa/base/tsa_model.py:225: ValueWarning: A date index has been provided, but it has no associated frequency information and so will be ignored when e.g. forecasting.\n",
      "  ' ignored when e.g. forecasting.', ValueWarning)\n",
      "/Users/jeffreyherman/anaconda3/envs/learn-env/lib/python3.6/site-packages/statsmodels/tsa/base/tsa_model.py:225: ValueWarning: A date index has been provided, but it has no associated frequency information and so will be ignored when e.g. forecasting.\n",
      "  ' ignored when e.g. forecasting.', ValueWarning)\n",
      "/Users/jeffreyherman/anaconda3/envs/learn-env/lib/python3.6/site-packages/scipy/signal/signaltools.py:1341: FutureWarning: Using a non-tuple sequence for multidimensional indexing is deprecated; use `arr[tuple(seq)]` instead of `arr[seq]`. In the future this will be interpreted as an array index, `arr[np.array(seq)]`, which will result either in an error or a different result.\n",
      "  out_full[ind] += zi\n",
      "/Users/jeffreyherman/anaconda3/envs/learn-env/lib/python3.6/site-packages/scipy/signal/signaltools.py:1344: FutureWarning: Using a non-tuple sequence for multidimensional indexing is deprecated; use `arr[tuple(seq)]` instead of `arr[seq]`. In the future this will be interpreted as an array index, `arr[np.array(seq)]`, which will result either in an error or a different result.\n",
      "  out = out_full[ind]\n",
      "/Users/jeffreyherman/anaconda3/envs/learn-env/lib/python3.6/site-packages/scipy/signal/signaltools.py:1350: FutureWarning: Using a non-tuple sequence for multidimensional indexing is deprecated; use `arr[tuple(seq)]` instead of `arr[seq]`. In the future this will be interpreted as an array index, `arr[np.array(seq)]`, which will result either in an error or a different result.\n",
      "  zf = out_full[ind]\n"
     ]
    },
    {
     "name": "stdout",
     "output_type": "stream",
     "text": [
      "                             ARIMA Model Results                              \n",
      "==============================================================================\n",
      "Dep. Variable:           D.Last Price   No. Observations:                 1241\n",
      "Model:                 ARIMA(5, 1, 0)   Log Likelihood               -2710.446\n",
      "Method:                       css-mle   S.D. of innovations              2.149\n",
      "Date:                Wed, 09 Oct 2019   AIC                           5434.893\n",
      "Time:                        14:33:27   BIC                           5470.758\n",
      "Sample:                             1   HQIC                          5448.381\n",
      "                                                                              \n",
      "======================================================================================\n",
      "                         coef    std err          z      P>|z|      [0.025      0.975]\n",
      "--------------------------------------------------------------------------------------\n",
      "const                  0.0633      0.059      1.078      0.281      -0.052       0.179\n",
      "ar.L1.D.Last Price     0.0138      0.028      0.487      0.627      -0.042       0.069\n",
      "ar.L2.D.Last Price    -0.0429      0.028     -1.512      0.131      -0.099       0.013\n",
      "ar.L3.D.Last Price    -0.0319      0.028     -1.119      0.263      -0.088       0.024\n",
      "ar.L4.D.Last Price     0.0154      0.029      0.529      0.597      -0.042       0.072\n",
      "ar.L5.D.Last Price     0.0073      0.029      0.252      0.801      -0.050       0.064\n",
      "                                    Roots                                    \n",
      "=============================================================================\n",
      "                  Real          Imaginary           Modulus         Frequency\n",
      "-----------------------------------------------------------------------------\n",
      "AR.1            2.7148           -0.0000j            2.7148           -0.0000\n",
      "AR.2            0.5442           -2.1473j            2.2152           -0.2105\n",
      "AR.3            0.5442           +2.1473j            2.2152            0.2105\n",
      "AR.4           -2.9539           -1.2350j            3.2017           -0.4370\n",
      "AR.5           -2.9539           +1.2350j            3.2017            0.4370\n",
      "-----------------------------------------------------------------------------\n"
     ]
    },
    {
     "data": {
      "image/png": "[encoded data removed]",
      "text/plain": [
       "<Figure size 432x288 with 1 Axes>"
      ]
     },
     "metadata": {
      "needs_background": "light"
     },
     "output_type": "display_data"
    },
    {
     "data": {
      "image/png": "[encoded data removed]",
      "text/plain": [
       "<Figure size 432x288 with 1 Axes>"
      ]
     },
     "metadata": {
      "needs_background": "light"
     },
     "output_type": "display_data"
    },
    {
     "name": "stdout",
     "output_type": "stream",
     "text": [
      "                 0\n",
      "count  1241.000000\n",
      "mean      0.000025\n",
      "std       2.150164\n",
      "min     -15.790879\n",
      "25%      -0.861968\n",
      "50%       0.011568\n",
      "75%       1.019041\n",
      "max      10.986122\n"
     ]
    }
   ],
   "source": [
    "model = ARIMA(train_data, order=(5,1,0))\n",
    "model_fit = model.fit(disp=0)\n",
    "print(model_fit.summary())\n",
    "# plot residual errors\n",
    "residuals = pd.DataFrame(model_fit.resid)\n",
    "residuals.plot()\n",
    "pyplot.show()\n",
    "residuals.plot(kind='kde')\n",
    "pyplot.show()\n",
    "print(residuals.describe())"
   ]
  },
  {
   "cell_type": "code",
   "execution_count": 18,
   "metadata": {},
   "outputs": [],
   "source": [
    "X = ts['Last Price'].values\n",
    "size = int(len(X) * 0.9)\n",
    "train, test = X[0:size], X[size:len(X)]"
   ]
  },
  {
   "cell_type": "code",
   "execution_count": 32,
   "metadata": {
    "scrolled": false
   },
   "outputs": [
    {
     "name": "stdout",
     "output_type": "stream",
     "text": [
      "predicted=150.520578, expected=153.310000\n",
      "predicted=153.318993, expected=153.800000\n",
      "predicted=153.779508, expected=152.290000\n",
      "predicted=152.234481, expected=150.000000\n",
      "predicted=149.733336, expected=153.070000\n",
      "predicted=153.083889, expected=154.940000\n",
      "predicted=154.944760, expected=155.860000\n",
      "predicted=155.852741, expected=156.820000\n",
      "predicted=156.816441, expected=153.300000\n",
      "predicted=153.216171, expected=153.920000\n",
      "predicted=153.901401, expected=152.700000\n",
      "predicted=152.650041, expected=157.760000\n",
      "predicted=157.813079, expected=156.300000\n",
      "predicted=156.261140, expected=154.680000\n",
      "predicted=154.633285, expected=165.250000\n",
      "predicted=165.361332, expected=166.440000\n",
      "predicted=166.465248, expected=166.520000\n",
      "predicted=166.531835, expected=171.250000\n",
      "predicted=171.330787, expected=174.180000\n",
      "predicted=174.255793, expected=174.240000\n",
      "predicted=174.275466, expected=170.940000\n",
      "predicted=170.917686, expected=170.410000\n",
      "predicted=170.424663, expected=169.430000\n",
      "predicted=169.434814, expected=170.890000\n",
      "predicted=170.934095, expected=170.180000\n",
      "predicted=170.191172, expected=170.800000\n",
      "predicted=170.831398, expected=170.420000\n",
      "predicted=170.436194, expected=170.930000\n",
      "predicted=170.959998, expected=172.030000\n",
      "predicted=172.071446, expected=171.060000\n",
      "predicted=171.069679, expected=172.970000\n",
      "predicted=173.024421, expected=174.230000\n",
      "predicted=174.279946, expected=174.330000\n",
      "predicted=174.364032, expected=174.870000\n",
      "predicted=174.911733, expected=173.150000\n",
      "predicted=173.155067, expected=174.970000\n",
      "predicted=175.028051, expected=175.850000\n",
      "predicted=175.898486, expected=175.530000\n",
      "predicted=175.561298, expected=174.520000\n",
      "predicted=174.538625, expected=172.500000\n",
      "predicted=172.497895, expected=172.910000\n",
      "predicted=172.942460, expected=178.900000\n",
      "predicted=179.029055, expected=180.910000\n",
      "predicted=180.993153, expected=181.710000\n",
      "predicted=181.776155, expected=183.730000\n",
      "predicted=183.822252, expected=186.120000\n",
      "predicted=186.227106, expected=188.020000\n",
      "predicted=188.125533, expected=186.530000\n",
      "predicted=186.571191, expected=188.160000\n",
      "predicted=188.259300, expected=195.090000\n",
      "predicted=195.311517, expected=191.050000\n",
      "predicted=191.074379, expected=188.740000\n",
      "predicted=188.777083, expected=186.790000\n",
      "predicted=186.824947, expected=188.470000\n",
      "predicted=188.568123, expected=188.720000\n",
      "predicted=188.796812, expected=189.950000\n",
      "predicted=190.044830, expected=191.240000\n",
      "predicted=191.339662, expected=194.020000\n",
      "predicted=194.152578, expected=195.350000\n",
      "predicted=195.463910, expected=195.690000\n",
      "predicted=195.787557, expected=197.000000\n",
      "predicted=197.117667, expected=200.100000\n",
      "predicted=200.259169, expected=199.500000\n",
      "predicted=199.591579, expected=200.620000\n",
      "predicted=200.744617, expected=198.950000\n",
      "predicted=199.021790, expected=198.870000\n",
      "predicted=198.968313, expected=199.230000\n",
      "predicted=199.336340, expected=199.250000\n",
      "predicted=199.350464, expected=203.130000\n",
      "predicted=203.306933, expected=203.860000\n",
      "predicted=203.986106, expected=204.530000\n",
      "predicted=204.656327, expected=207.480000\n",
      "predicted=207.654903, expected=207.160000\n",
      "predicted=207.276688, expected=205.280000\n",
      "predicted=205.362358, expected=204.300000\n",
      "predicted=204.395356, expected=204.610000\n",
      "predicted=204.728953, expected=200.670000\n",
      "predicted=200.702010, expected=210.520000\n",
      "predicted=210.761951, expected=209.150000\n",
      "predicted=209.265669, expected=211.750000\n",
      "predicted=211.905786, expected=208.480000\n",
      "predicted=208.582385, expected=202.860000\n",
      "predicted=202.911787, expected=202.900000\n",
      "predicted=203.007458, expected=200.720000\n",
      "predicted=200.798381, expected=197.180000\n",
      "predicted=197.229316, expected=185.720000\n",
      "predicted=185.570158, expected=188.660000\n",
      "predicted=188.759685, expected=190.920000\n",
      "predicted=191.019656, expected=190.080000\n",
      "predicted=190.135994, expected=189.000000\n",
      "predicted=189.049204, expected=183.090000\n",
      "predicted=183.051933, expected=186.600000\n",
      "predicted=186.694375, expected=182.780000\n",
      "predicted=182.791109, expected=179.660000\n",
      "predicted=179.661636, expected=178.970000\n",
      "predicted=178.995164, expected=178.230000\n",
      "predicted=178.251920, expected=177.380000\n",
      "predicted=177.398185, expected=178.300000\n",
      "predicted=178.340538, expected=175.070000\n",
      "predicted=175.056235, expected=173.300000\n",
      "predicted=173.294767, expected=179.640000\n",
      "predicted=179.735967, expected=182.540000\n",
      "predicted=182.618145, expected=185.220000\n",
      "predicted=185.306459, expected=190.150000\n",
      "predicted=190.290623, expected=192.580000\n",
      "predicted=192.692483, expected=194.810000\n",
      "predicted=194.926864, expected=194.190000\n",
      "predicted=194.253739, expected=194.150000\n",
      "predicted=194.223767, expected=192.740000\n",
      "predicted=192.785065, expected=193.890000\n",
      "predicted=193.983354, expected=198.450000\n",
      "predicted=198.619052, expected=197.870000\n",
      "predicted=197.944094, expected=199.460000\n",
      "predicted=199.576633, expected=198.780000\n",
      "predicted=198.854697, expected=198.580000\n",
      "predicted=198.662258, expected=195.570000\n",
      "predicted=195.594699, expected=199.800000\n",
      "predicted=199.954706, expected=199.740000\n",
      "predicted=199.827541, expected=197.920000\n",
      "predicted=197.974617, expected=201.550000\n",
      "predicted=201.695789, expected=202.730000\n",
      "predicted=202.844110, expected=204.410000\n",
      "predicted=204.536462, expected=204.230000\n",
      "predicted=204.327456, expected=200.020000\n",
      "predicted=200.042605, expected=201.240000\n",
      "predicted=201.348575, expected=203.230000\n",
      "predicted=203.355788, expected=201.750000\n",
      "predicted=201.820357, expected=203.300000\n",
      "predicted=203.417958, expected=205.210000\n",
      "predicted=205.339020, expected=204.500000\n",
      "predicted=204.589880, expected=203.350000\n",
      "predicted=203.429233, expected=205.660000\n",
      "predicted=205.794164, expected=202.590000\n",
      "predicted=202.642757, expected=207.220000\n",
      "predicted=207.376503, expected=208.840000\n"
     ]
    },
    {
     "name": "stderr",
     "output_type": "stream",
     "text": [
      "/Users/jeffreyherman/anaconda3/lib/python3.6/site-packages/statsmodels/base/model.py:512: ConvergenceWarning: Maximum Likelihood optimization failed to converge. Check mle_retvals\n",
      "  \"Check mle_retvals\", ConvergenceWarning)\n"
     ]
    },
    {
     "name": "stdout",
     "output_type": "stream",
     "text": [
      "predicted=208.969510, expected=208.670000\n",
      "predicted=208.777440, expected=207.020000\n",
      "predicted=207.104616, expected=207.740000\n",
      "Test MSE: 8.025\n"
     ]
    },
    {
     "data": {
      "image/png": "[encoded data removed]",
      "text/plain": [
       "<Figure size 432x288 with 1 Axes>"
      ]
     },
     "metadata": {
      "needs_background": "light"
     },
     "output_type": "display_data"
    }
   ],
   "source": [
    "X = ts['Last Price'].values\n",
    "size = int(len(X) * 0.9)\n",
    "train, test = X[0:size], X[size:len(X)]\n",
    "history = [x for x in train]\n",
    "predictions = list()\n",
    "for t in range(len(test)):\n",
    "\tmodel = ARIMA(history, order=(1,2,1))\n",
    "\tmodel_fit = model.fit(disp=0)\n",
    "\toutput = model_fit.forecast()\n",
    "\tyhat = output[0]\n",
    "\tpredictions.append(yhat)\n",
    "\tobs = test[t]\n",
    "\thistory.append(obs)\n",
    "\tprint('predicted=%f, expected=%f' % (yhat, obs))\n",
    "error = mean_squared_error(test, predictions)\n",
    "print('Test MSE: %.3f' % error)\n",
    "# plot\n",
    "pyplot.plot(test, label = 'actual')\n",
    "pyplot.plot(predictions, color='red', label = 'prediction')\n",
    "pyplot.legend()\n",
    "pyplot.show()"
   ]
  },
  {
   "cell_type": "markdown",
   "metadata": {},
   "source": [
    "- https://machinelearningmastery.com/grid-search-arima-hyperparameters-with-python/"
   ]
  },
  {
   "cell_type": "code",
   "execution_count": null,
   "metadata": {
    "collapsed": true
   },
   "outputs": [],
   "source": []
  }
 ],
 "metadata": {
  "kernelspec": {
   "display_name": "Python 3",
   "language": "python",
   "name": "python3"
  },
  "language_info": {
   "codemirror_mode": {
    "name": "ipython",
    "version": 3
   },
   "file_extension": ".py",
   "mimetype": "text/x-python",
   "name": "python",
   "nbconvert_exporter": "python",
   "pygments_lexer": "ipython3",
   "version": "3.6.8"
  }
 },
 "nbformat": 4,
 "nbformat_minor": 2
}
