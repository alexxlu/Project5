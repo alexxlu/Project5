{
 "cells": [
  {
   "cell_type": "code",
   "execution_count": 40,
   "metadata": {},
   "outputs": [],
   "source": [
    "import warnings\n",
    "warnings.filterwarnings('ignore')\n",
    "import pandas as pd \n",
    "import matplotlib.pyplot as plt\n",
    "from sklearn.preprocessing import MinMaxScaler\n",
    "import numpy as np\n",
    "from sklearn.model_selection import train_test_split\n",
    "from sklearn.metrics import mean_squared_error\n",
    "\n",
    "from sklearn.model_selection import KFold\n",
    "from sklearn import linear_model\n",
    "from sklearn.metrics import make_scorer\n",
    "from sklearn.ensemble import BaggingRegressor\n",
    "from sklearn.ensemble import RandomForestRegressor\n",
    "from sklearn import svm\n",
    "from sklearn.metrics import r2_score\n",
    "from sklearn.ensemble import AdaBoostRegressor\n",
    "from sklearn.model_selection import cross_val_score\n",
    "from sklearn.tree import DecisionTreeRegressor\n",
    "from sklearn.model_selection import GridSearchCV"
   ]
  },
  {
   "cell_type": "code",
   "execution_count": 41,
   "metadata": {},
   "outputs": [],
   "source": [
    "data=pd.read_excel('US Data.xlsx')\n",
    "dates=data[['Date']]\n",
    "y=data['Last Price']\n",
    "data.set_index('Date', inplace=True)\n",
    "data=data.drop('Last Price', axis=1)"
   ]
  },
  {
   "cell_type": "code",
   "execution_count": 42,
   "metadata": {},
   "outputs": [
    {
     "data": {
      "text/plain": [
       "0    71.6471\n",
       "1    72.6843\n",
       "2    73.2271\n",
       "3    73.2157\n",
       "4    74.2400\n",
       "Name: Last Price, dtype: float64"
      ]
     },
     "execution_count": 42,
     "metadata": {},
     "output_type": "execute_result"
    }
   ],
   "source": [
    "y.head()"
   ]
  },
  {
   "cell_type": "code",
   "execution_count": 43,
   "metadata": {},
   "outputs": [
    {
     "data": {
      "text/html": [
       "<div>\n",
       "<style scoped>\n",
       "    .dataframe tbody tr th:only-of-type {\n",
       "        vertical-align: middle;\n",
       "    }\n",
       "\n",
       "    .dataframe tbody tr th {\n",
       "        vertical-align: top;\n",
       "    }\n",
       "\n",
       "    .dataframe thead th {\n",
       "        text-align: right;\n",
       "    }\n",
       "</style>\n",
       "<table border=\"1\" class=\"dataframe\">\n",
       "  <thead>\n",
       "    <tr style=\"text-align: right;\">\n",
       "      <th></th>\n",
       "      <th>Open Price</th>\n",
       "      <th>Financial Leverage</th>\n",
       "      <th>Volume</th>\n",
       "      <th>PE RATIO</th>\n",
       "      <th>Cash Flow Per Share</th>\n",
       "      <th>Price to Book Ratio</th>\n",
       "      <th>Dividend Per Share</th>\n",
       "      <th>SPX</th>\n",
       "      <th>VIX</th>\n",
       "      <th>PPUT</th>\n",
       "    </tr>\n",
       "  </thead>\n",
       "  <tbody>\n",
       "    <tr>\n",
       "      <th>count</th>\n",
       "      <td>1380.000000</td>\n",
       "      <td>1380.000000</td>\n",
       "      <td>1.380000e+03</td>\n",
       "      <td>1380.000000</td>\n",
       "      <td>1380.000000</td>\n",
       "      <td>1380.000000</td>\n",
       "      <td>1380.000000</td>\n",
       "      <td>1380.000000</td>\n",
       "      <td>1380.000000</td>\n",
       "      <td>1380.000000</td>\n",
       "    </tr>\n",
       "    <tr>\n",
       "      <th>mean</th>\n",
       "      <td>137.631201</td>\n",
       "      <td>2.475385</td>\n",
       "      <td>4.050571e+07</td>\n",
       "      <td>15.359991</td>\n",
       "      <td>3.233181</td>\n",
       "      <td>5.888355</td>\n",
       "      <td>0.575685</td>\n",
       "      <td>2321.858167</td>\n",
       "      <td>14.952551</td>\n",
       "      <td>743.758797</td>\n",
       "    </tr>\n",
       "    <tr>\n",
       "      <th>std</th>\n",
       "      <td>39.028113</td>\n",
       "      <td>0.465252</td>\n",
       "      <td>2.118245e+07</td>\n",
       "      <td>2.504819</td>\n",
       "      <td>1.298186</td>\n",
       "      <td>1.502929</td>\n",
       "      <td>0.097161</td>\n",
       "      <td>342.581722</td>\n",
       "      <td>4.147436</td>\n",
       "      <td>96.290575</td>\n",
       "    </tr>\n",
       "    <tr>\n",
       "      <th>min</th>\n",
       "      <td>71.801400</td>\n",
       "      <td>1.706700</td>\n",
       "      <td>1.136204e+07</td>\n",
       "      <td>9.962100</td>\n",
       "      <td>1.678300</td>\n",
       "      <td>3.451400</td>\n",
       "      <td>0.435700</td>\n",
       "      <td>1741.890000</td>\n",
       "      <td>9.140000</td>\n",
       "      <td>593.430000</td>\n",
       "    </tr>\n",
       "    <tr>\n",
       "      <th>25%</th>\n",
       "      <td>107.362500</td>\n",
       "      <td>2.098100</td>\n",
       "      <td>2.585018e+07</td>\n",
       "      <td>13.296450</td>\n",
       "      <td>2.233000</td>\n",
       "      <td>4.725175</td>\n",
       "      <td>0.470000</td>\n",
       "      <td>2047.092500</td>\n",
       "      <td>12.180000</td>\n",
       "      <td>665.707500</td>\n",
       "    </tr>\n",
       "    <tr>\n",
       "      <th>50%</th>\n",
       "      <td>127.015000</td>\n",
       "      <td>2.462000</td>\n",
       "      <td>3.488049e+07</td>\n",
       "      <td>15.714300</td>\n",
       "      <td>2.967500</td>\n",
       "      <td>5.653150</td>\n",
       "      <td>0.570000</td>\n",
       "      <td>2180.385000</td>\n",
       "      <td>13.910000</td>\n",
       "      <td>696.495000</td>\n",
       "    </tr>\n",
       "    <tr>\n",
       "      <th>75%</th>\n",
       "      <td>170.977500</td>\n",
       "      <td>2.851900</td>\n",
       "      <td>4.977487e+07</td>\n",
       "      <td>17.308525</td>\n",
       "      <td>4.065900</td>\n",
       "      <td>6.482625</td>\n",
       "      <td>0.630000</td>\n",
       "      <td>2658.585000</td>\n",
       "      <td>16.410000</td>\n",
       "      <td>835.547500</td>\n",
       "    </tr>\n",
       "    <tr>\n",
       "      <th>max</th>\n",
       "      <td>230.780000</td>\n",
       "      <td>3.285800</td>\n",
       "      <td>1.899781e+08</td>\n",
       "      <td>20.950300</td>\n",
       "      <td>5.771300</td>\n",
       "      <td>10.298800</td>\n",
       "      <td>0.770000</td>\n",
       "      <td>3025.860000</td>\n",
       "      <td>40.740000</td>\n",
       "      <td>959.410000</td>\n",
       "    </tr>\n",
       "  </tbody>\n",
       "</table>\n",
       "</div>"
      ],
      "text/plain": [
       "        Open Price  Financial Leverage        Volume     PE RATIO  \\\n",
       "count  1380.000000         1380.000000  1.380000e+03  1380.000000   \n",
       "mean    137.631201            2.475385  4.050571e+07    15.359991   \n",
       "std      39.028113            0.465252  2.118245e+07     2.504819   \n",
       "min      71.801400            1.706700  1.136204e+07     9.962100   \n",
       "25%     107.362500            2.098100  2.585018e+07    13.296450   \n",
       "50%     127.015000            2.462000  3.488049e+07    15.714300   \n",
       "75%     170.977500            2.851900  4.977487e+07    17.308525   \n",
       "max     230.780000            3.285800  1.899781e+08    20.950300   \n",
       "\n",
       "       Cash Flow Per Share  Price to Book Ratio  Dividend Per Share  \\\n",
       "count          1380.000000          1380.000000         1380.000000   \n",
       "mean              3.233181             5.888355            0.575685   \n",
       "std               1.298186             1.502929            0.097161   \n",
       "min               1.678300             3.451400            0.435700   \n",
       "25%               2.233000             4.725175            0.470000   \n",
       "50%               2.967500             5.653150            0.570000   \n",
       "75%               4.065900             6.482625            0.630000   \n",
       "max               5.771300            10.298800            0.770000   \n",
       "\n",
       "               SPX          VIX         PPUT  \n",
       "count  1380.000000  1380.000000  1380.000000  \n",
       "mean   2321.858167    14.952551   743.758797  \n",
       "std     342.581722     4.147436    96.290575  \n",
       "min    1741.890000     9.140000   593.430000  \n",
       "25%    2047.092500    12.180000   665.707500  \n",
       "50%    2180.385000    13.910000   696.495000  \n",
       "75%    2658.585000    16.410000   835.547500  \n",
       "max    3025.860000    40.740000   959.410000  "
      ]
     },
     "execution_count": 43,
     "metadata": {},
     "output_type": "execute_result"
    }
   ],
   "source": [
    "data.describe()"
   ]
  },
  {
   "cell_type": "code",
   "execution_count": 44,
   "metadata": {},
   "outputs": [
    {
     "data": {
      "text/plain": [
       "Text(0.5, 1.0, 'Correlation between different fearures')"
      ]
     },
     "execution_count": 44,
     "metadata": {},
     "output_type": "execute_result"
    },
    {
     "data": {
      "image/png": "[encoded data removed]",
      "text/plain": [
       "<Figure size 720x720 with 2 Axes>"
      ]
     },
     "metadata": {
      "needs_background": "light"
     },
     "output_type": "display_data"
    }
   ],
   "source": [
    "correlation = data.corr()\n",
    "plt.figure(figsize=(10,10))\n",
    "import seaborn as sns\n",
    "sns.heatmap(correlation, vmax=1, square=True,annot=True,cmap='cubehelix')\n",
    "\n",
    "plt.title('Correlation between different fearures')"
   ]
  },
  {
   "cell_type": "code",
   "execution_count": 45,
   "metadata": {},
   "outputs": [
    {
     "data": {
      "text/plain": [
       "'\\nscaler=MinMaxScaler(feature_range=(0,1))\\nscaled_X=scaler.fit_transform(data.values)\\nscaled_y=scaler.fit_transform(y.values)\\n'"
      ]
     },
     "execution_count": 45,
     "metadata": {},
     "output_type": "execute_result"
    }
   ],
   "source": [
    "'''\n",
    "scaler=MinMaxScaler(feature_range=(0,1))\n",
    "scaled_X=scaler.fit_transform(data.values)\n",
    "scaled_y=scaler.fit_transform(y.values)\n",
    "'''"
   ]
  },
  {
   "cell_type": "code",
   "execution_count": 46,
   "metadata": {},
   "outputs": [
    {
     "name": "stdout",
     "output_type": "stream",
     "text": [
      "split:  1242\n",
      "(1242, 10) (1242,)\n"
     ]
    }
   ],
   "source": [
    "from sklearn.preprocessing import StandardScaler\n",
    "X = data.values\n",
    "y = y.values\n",
    "split=int(len(y)*0.9)\n",
    "print('split: ', split )\n",
    "X_train=X[:split, :]\n",
    "X_test=X[split:, :]\n",
    "y_train=y[:split]\n",
    "y_test=y[split:]\n",
    "print(X_train.shape, y_train.shape)\n",
    "\n",
    "sc = StandardScaler()   \n",
    "X_train = sc.fit_transform(X_train) \n",
    "X_test = sc.transform(X_test) "
   ]
  },
  {
   "cell_type": "code",
   "execution_count": 47,
   "metadata": {},
   "outputs": [],
   "source": [
    "# Run the PCA algorithm\n",
    "from sklearn.decomposition import PCA\n",
    "pca = PCA(n_components=10)\n",
    "principleComponents=pca.fit_transform(X_train)"
   ]
  },
  {
   "cell_type": "code",
   "execution_count": null,
   "metadata": {},
   "outputs": [],
   "source": [
    "pca.transform()"
   ]
  },
  {
   "cell_type": "code",
   "execution_count": 48,
   "metadata": {},
   "outputs": [
    {
     "name": "stdout",
     "output_type": "stream",
     "text": [
      "Variance of each component: [6.19932235e-01 1.53423756e-01 9.06691282e-02 7.80900947e-02\n",
      " 3.65813241e-02 1.30391445e-02 4.44974669e-03 2.51494984e-03\n",
      " 1.17061723e-03 1.29003987e-04]\n",
      "\n",
      " Total Variance Explained: 100.0\n"
     ]
    },
    {
     "data": {
      "text/plain": [
       "Text(0, 0.5, 'cumulative explained variance')"
      ]
     },
     "execution_count": 48,
     "metadata": {},
     "output_type": "execute_result"
    },
    {
     "data": {
      "image/png": "[encoded data removed]",
      "text/plain": [
       "<Figure size 432x288 with 1 Axes>"
      ]
     },
     "metadata": {
      "needs_background": "light"
     },
     "output_type": "display_data"
    }
   ],
   "source": [
    "# Calculate the variance explained by priciple components\n",
    "print('Variance of each component:', pca.explained_variance_ratio_)\n",
    "print('\\n Total Variance Explained:', round(sum(list(pca.explained_variance_ratio_))*100, 2))\n",
    "plt.plot(np.cumsum(pca.explained_variance_ratio_))\n",
    "plt.xlabel('number of components')\n",
    "plt.ylabel('cumulative explained variance')"
   ]
  },
  {
   "cell_type": "code",
   "execution_count": 49,
   "metadata": {},
   "outputs": [
    {
     "name": "stdout",
     "output_type": "stream",
     "text": [
      "Variance of each component: [0.61993224 0.15342376 0.09066913]\n",
      "\n",
      " Total Variance Explained: 86.4\n"
     ]
    }
   ],
   "source": [
    "#from dimishing return graph above, 3 components seems to explain 95%\n",
    "pca = PCA(n_components=3)\n",
    "X_train_pc = pca.fit_transform(X_train)\n",
    "X_test_pc = pca.transform(X_test) \n",
    "# Calculate the variance explained by priciple components\n",
    "print('Variance of each component:', pca.explained_variance_ratio_)\n",
    "print('\\n Total Variance Explained:', round(sum(list(pca.explained_variance_ratio_))*100, 2))"
   ]
  },
  {
   "cell_type": "code",
   "execution_count": null,
   "metadata": {},
   "outputs": [],
   "source": []
  },
  {
   "cell_type": "code",
   "execution_count": 50,
   "metadata": {},
   "outputs": [
    {
     "name": "stdout",
     "output_type": "stream",
     "text": [
      "r2 scores:  [0.47185572309914914]\n"
     ]
    }
   ],
   "source": [
    "from sklearn.model_selection import TimeSeriesSplit\n",
    "# Fitting Logistic Regression To the training set \n",
    "lr = linear_model.LinearRegression(normalize=True) \n",
    "lr.fit(X_train_pc, y_train)\n",
    "#tscv = TimeSeriesSplit(n_splits=5)\n",
    "#cv = KFold(n_splits=3,shuffle=True,random_state=45)\n",
    "r2 = make_scorer(r2_score)\n",
    "#r2_val_score = cross_val_score(lr, X_train_pc, y_train, cv=tscv,scoring=r2)\n",
    "#scores=[r2_val_score.mean()]\n",
    "print('r2 scores: ', scores)\n"
   ]
  },
  {
   "cell_type": "code",
   "execution_count": 51,
   "metadata": {},
   "outputs": [
    {
     "data": {
      "text/plain": [
       "0.980898893010473"
      ]
     },
     "execution_count": 51,
     "metadata": {},
     "output_type": "execute_result"
    }
   ],
   "source": [
    "lr.score(X_train_pc, y_train)"
   ]
  },
  {
   "cell_type": "code",
   "execution_count": 52,
   "metadata": {},
   "outputs": [
    {
     "data": {
      "text/plain": [
       "0.6328531481256643"
      ]
     },
     "execution_count": 52,
     "metadata": {},
     "output_type": "execute_result"
    }
   ],
   "source": [
    "lr.score(X_test_pc, y_test)"
   ]
  },
  {
   "cell_type": "code",
   "execution_count": 53,
   "metadata": {},
   "outputs": [
    {
     "name": "stdout",
     "output_type": "stream",
     "text": [
      "linear regression mse:  98.52767454712009\n"
     ]
    }
   ],
   "source": [
    "y_pred=lr.predict(X_test_pc)\n",
    "mse=mean_squared_error(y_test, y_pred)\n",
    "print('linear regression mse: ', mse)"
   ]
  },
  {
   "cell_type": "code",
   "execution_count": 54,
   "metadata": {},
   "outputs": [
    {
     "data": {
      "text/html": [
       "<div>\n",
       "<style scoped>\n",
       "    .dataframe tbody tr th:only-of-type {\n",
       "        vertical-align: middle;\n",
       "    }\n",
       "\n",
       "    .dataframe tbody tr th {\n",
       "        vertical-align: top;\n",
       "    }\n",
       "\n",
       "    .dataframe thead th {\n",
       "        text-align: right;\n",
       "    }\n",
       "</style>\n",
       "<table border=\"1\" class=\"dataframe\">\n",
       "  <thead>\n",
       "    <tr style=\"text-align: right;\">\n",
       "      <th></th>\n",
       "      <th>Date</th>\n",
       "    </tr>\n",
       "  </thead>\n",
       "  <tbody>\n",
       "    <tr>\n",
       "      <th>0</th>\n",
       "      <td>2014-02-03</td>\n",
       "    </tr>\n",
       "    <tr>\n",
       "      <th>1</th>\n",
       "      <td>2014-02-04</td>\n",
       "    </tr>\n",
       "    <tr>\n",
       "      <th>2</th>\n",
       "      <td>2014-02-05</td>\n",
       "    </tr>\n",
       "    <tr>\n",
       "      <th>3</th>\n",
       "      <td>2014-02-06</td>\n",
       "    </tr>\n",
       "    <tr>\n",
       "      <th>4</th>\n",
       "      <td>2014-02-07</td>\n",
       "    </tr>\n",
       "    <tr>\n",
       "      <th>5</th>\n",
       "      <td>2014-02-10</td>\n",
       "    </tr>\n",
       "    <tr>\n",
       "      <th>6</th>\n",
       "      <td>2014-02-11</td>\n",
       "    </tr>\n",
       "    <tr>\n",
       "      <th>7</th>\n",
       "      <td>2014-02-12</td>\n",
       "    </tr>\n",
       "    <tr>\n",
       "      <th>8</th>\n",
       "      <td>2014-02-13</td>\n",
       "    </tr>\n",
       "    <tr>\n",
       "      <th>9</th>\n",
       "      <td>2014-02-14</td>\n",
       "    </tr>\n",
       "    <tr>\n",
       "      <th>10</th>\n",
       "      <td>2014-02-18</td>\n",
       "    </tr>\n",
       "    <tr>\n",
       "      <th>11</th>\n",
       "      <td>2014-02-19</td>\n",
       "    </tr>\n",
       "    <tr>\n",
       "      <th>12</th>\n",
       "      <td>2014-02-20</td>\n",
       "    </tr>\n",
       "    <tr>\n",
       "      <th>13</th>\n",
       "      <td>2014-02-21</td>\n",
       "    </tr>\n",
       "    <tr>\n",
       "      <th>14</th>\n",
       "      <td>2014-02-24</td>\n",
       "    </tr>\n",
       "    <tr>\n",
       "      <th>15</th>\n",
       "      <td>2014-02-25</td>\n",
       "    </tr>\n",
       "    <tr>\n",
       "      <th>16</th>\n",
       "      <td>2014-02-26</td>\n",
       "    </tr>\n",
       "    <tr>\n",
       "      <th>17</th>\n",
       "      <td>2014-02-27</td>\n",
       "    </tr>\n",
       "    <tr>\n",
       "      <th>18</th>\n",
       "      <td>2014-02-28</td>\n",
       "    </tr>\n",
       "    <tr>\n",
       "      <th>19</th>\n",
       "      <td>2014-03-03</td>\n",
       "    </tr>\n",
       "    <tr>\n",
       "      <th>20</th>\n",
       "      <td>2014-03-04</td>\n",
       "    </tr>\n",
       "    <tr>\n",
       "      <th>21</th>\n",
       "      <td>2014-03-05</td>\n",
       "    </tr>\n",
       "    <tr>\n",
       "      <th>22</th>\n",
       "      <td>2014-03-06</td>\n",
       "    </tr>\n",
       "    <tr>\n",
       "      <th>23</th>\n",
       "      <td>2014-03-07</td>\n",
       "    </tr>\n",
       "    <tr>\n",
       "      <th>24</th>\n",
       "      <td>2014-03-10</td>\n",
       "    </tr>\n",
       "    <tr>\n",
       "      <th>25</th>\n",
       "      <td>2014-03-11</td>\n",
       "    </tr>\n",
       "    <tr>\n",
       "      <th>26</th>\n",
       "      <td>2014-03-12</td>\n",
       "    </tr>\n",
       "    <tr>\n",
       "      <th>27</th>\n",
       "      <td>2014-03-13</td>\n",
       "    </tr>\n",
       "    <tr>\n",
       "      <th>28</th>\n",
       "      <td>2014-03-14</td>\n",
       "    </tr>\n",
       "    <tr>\n",
       "      <th>29</th>\n",
       "      <td>2014-03-17</td>\n",
       "    </tr>\n",
       "    <tr>\n",
       "      <th>...</th>\n",
       "      <td>...</td>\n",
       "    </tr>\n",
       "    <tr>\n",
       "      <th>1350</th>\n",
       "      <td>2019-06-14</td>\n",
       "    </tr>\n",
       "    <tr>\n",
       "      <th>1351</th>\n",
       "      <td>2019-06-17</td>\n",
       "    </tr>\n",
       "    <tr>\n",
       "      <th>1352</th>\n",
       "      <td>2019-06-18</td>\n",
       "    </tr>\n",
       "    <tr>\n",
       "      <th>1353</th>\n",
       "      <td>2019-06-19</td>\n",
       "    </tr>\n",
       "    <tr>\n",
       "      <th>1354</th>\n",
       "      <td>2019-06-20</td>\n",
       "    </tr>\n",
       "    <tr>\n",
       "      <th>1355</th>\n",
       "      <td>2019-06-21</td>\n",
       "    </tr>\n",
       "    <tr>\n",
       "      <th>1356</th>\n",
       "      <td>2019-06-24</td>\n",
       "    </tr>\n",
       "    <tr>\n",
       "      <th>1357</th>\n",
       "      <td>2019-06-25</td>\n",
       "    </tr>\n",
       "    <tr>\n",
       "      <th>1358</th>\n",
       "      <td>2019-06-26</td>\n",
       "    </tr>\n",
       "    <tr>\n",
       "      <th>1359</th>\n",
       "      <td>2019-06-27</td>\n",
       "    </tr>\n",
       "    <tr>\n",
       "      <th>1360</th>\n",
       "      <td>2019-06-28</td>\n",
       "    </tr>\n",
       "    <tr>\n",
       "      <th>1361</th>\n",
       "      <td>2019-07-01</td>\n",
       "    </tr>\n",
       "    <tr>\n",
       "      <th>1362</th>\n",
       "      <td>2019-07-02</td>\n",
       "    </tr>\n",
       "    <tr>\n",
       "      <th>1363</th>\n",
       "      <td>2019-07-03</td>\n",
       "    </tr>\n",
       "    <tr>\n",
       "      <th>1364</th>\n",
       "      <td>2019-07-05</td>\n",
       "    </tr>\n",
       "    <tr>\n",
       "      <th>1365</th>\n",
       "      <td>2019-07-08</td>\n",
       "    </tr>\n",
       "    <tr>\n",
       "      <th>1366</th>\n",
       "      <td>2019-07-09</td>\n",
       "    </tr>\n",
       "    <tr>\n",
       "      <th>1367</th>\n",
       "      <td>2019-07-10</td>\n",
       "    </tr>\n",
       "    <tr>\n",
       "      <th>1368</th>\n",
       "      <td>2019-07-11</td>\n",
       "    </tr>\n",
       "    <tr>\n",
       "      <th>1369</th>\n",
       "      <td>2019-07-12</td>\n",
       "    </tr>\n",
       "    <tr>\n",
       "      <th>1370</th>\n",
       "      <td>2019-07-15</td>\n",
       "    </tr>\n",
       "    <tr>\n",
       "      <th>1371</th>\n",
       "      <td>2019-07-16</td>\n",
       "    </tr>\n",
       "    <tr>\n",
       "      <th>1372</th>\n",
       "      <td>2019-07-17</td>\n",
       "    </tr>\n",
       "    <tr>\n",
       "      <th>1373</th>\n",
       "      <td>2019-07-18</td>\n",
       "    </tr>\n",
       "    <tr>\n",
       "      <th>1374</th>\n",
       "      <td>2019-07-19</td>\n",
       "    </tr>\n",
       "    <tr>\n",
       "      <th>1375</th>\n",
       "      <td>2019-07-22</td>\n",
       "    </tr>\n",
       "    <tr>\n",
       "      <th>1376</th>\n",
       "      <td>2019-07-23</td>\n",
       "    </tr>\n",
       "    <tr>\n",
       "      <th>1377</th>\n",
       "      <td>2019-07-24</td>\n",
       "    </tr>\n",
       "    <tr>\n",
       "      <th>1378</th>\n",
       "      <td>2019-07-25</td>\n",
       "    </tr>\n",
       "    <tr>\n",
       "      <th>1379</th>\n",
       "      <td>2019-07-26</td>\n",
       "    </tr>\n",
       "  </tbody>\n",
       "</table>\n",
       "<p>1380 rows × 1 columns</p>\n",
       "</div>"
      ],
      "text/plain": [
       "           Date\n",
       "0    2014-02-03\n",
       "1    2014-02-04\n",
       "2    2014-02-05\n",
       "3    2014-02-06\n",
       "4    2014-02-07\n",
       "5    2014-02-10\n",
       "6    2014-02-11\n",
       "7    2014-02-12\n",
       "8    2014-02-13\n",
       "9    2014-02-14\n",
       "10   2014-02-18\n",
       "11   2014-02-19\n",
       "12   2014-02-20\n",
       "13   2014-02-21\n",
       "14   2014-02-24\n",
       "15   2014-02-25\n",
       "16   2014-02-26\n",
       "17   2014-02-27\n",
       "18   2014-02-28\n",
       "19   2014-03-03\n",
       "20   2014-03-04\n",
       "21   2014-03-05\n",
       "22   2014-03-06\n",
       "23   2014-03-07\n",
       "24   2014-03-10\n",
       "25   2014-03-11\n",
       "26   2014-03-12\n",
       "27   2014-03-13\n",
       "28   2014-03-14\n",
       "29   2014-03-17\n",
       "...         ...\n",
       "1350 2019-06-14\n",
       "1351 2019-06-17\n",
       "1352 2019-06-18\n",
       "1353 2019-06-19\n",
       "1354 2019-06-20\n",
       "1355 2019-06-21\n",
       "1356 2019-06-24\n",
       "1357 2019-06-25\n",
       "1358 2019-06-26\n",
       "1359 2019-06-27\n",
       "1360 2019-06-28\n",
       "1361 2019-07-01\n",
       "1362 2019-07-02\n",
       "1363 2019-07-03\n",
       "1364 2019-07-05\n",
       "1365 2019-07-08\n",
       "1366 2019-07-09\n",
       "1367 2019-07-10\n",
       "1368 2019-07-11\n",
       "1369 2019-07-12\n",
       "1370 2019-07-15\n",
       "1371 2019-07-16\n",
       "1372 2019-07-17\n",
       "1373 2019-07-18\n",
       "1374 2019-07-19\n",
       "1375 2019-07-22\n",
       "1376 2019-07-23\n",
       "1377 2019-07-24\n",
       "1378 2019-07-25\n",
       "1379 2019-07-26\n",
       "\n",
       "[1380 rows x 1 columns]"
      ]
     },
     "execution_count": 54,
     "metadata": {},
     "output_type": "execute_result"
    }
   ],
   "source": [
    "dates"
   ]
  },
  {
   "cell_type": "code",
   "execution_count": 55,
   "metadata": {},
   "outputs": [],
   "source": [
    "my_pred = dates.tail(138)\n",
    "my_pred['val'] = y_pred"
   ]
  },
  {
   "cell_type": "code",
   "execution_count": 56,
   "metadata": {},
   "outputs": [],
   "source": [
    "actual_test = dates.tail(138)\n",
    "actual_test['val'] = y_test"
   ]
  },
  {
   "cell_type": "code",
   "execution_count": 57,
   "metadata": {},
   "outputs": [
    {
     "data": {
      "text/plain": [
       "<matplotlib.legend.Legend at 0x1a18737668>"
      ]
     },
     "execution_count": 57,
     "metadata": {},
     "output_type": "execute_result"
    },
    {
     "data": {
      "image/png": "[encoded data removed]",
      "text/plain": [
       "<Figure size 864x576 with 1 Axes>"
      ]
     },
     "metadata": {
      "needs_background": "light"
     },
     "output_type": "display_data"
    }
   ],
   "source": [
    "fig = plt.figure(figsize = (12, 8))\n",
    "ax1 = plt.subplot(111)\n",
    "my_pred.set_index('Date').plot(kind = 'line', label = 'Prediction', ax = ax1)\n",
    "actual_test.set_index('Date').plot(kind = 'line', label = 'Actual', ax = ax1)\n",
    "plt.legend()"
   ]
  },
  {
   "cell_type": "code",
   "execution_count": 58,
   "metadata": {},
   "outputs": [
    {
     "data": {
      "text/plain": [
       "(138,)"
      ]
     },
     "execution_count": 58,
     "metadata": {},
     "output_type": "execute_result"
    }
   ],
   "source": [
    "y_pred.shape"
   ]
  },
  {
   "cell_type": "code",
   "execution_count": 59,
   "metadata": {},
   "outputs": [
    {
     "data": {
      "image/png": "[encoded data removed]",
      "text/plain": [
       "<Figure size 432x288 with 1 Axes>"
      ]
     },
     "metadata": {
      "needs_background": "light"
     },
     "output_type": "display_data"
    }
   ],
   "source": [
    "plt.plot(y_pred)\n",
    "plt.plot(y_test)\n",
    "plt.show()\n"
   ]
  },
  {
   "cell_type": "code",
   "execution_count": 62,
   "metadata": {},
   "outputs": [
    {
     "name": "stdout",
     "output_type": "stream",
     "text": [
      "[ True False False False False  True False  True False False]\n",
      "[1 4 7 5 8 1 3 1 6 2]\n"
     ]
    },
    {
     "ename": "ValueError",
     "evalue": "shapes (138,10) and (3,) not aligned: 10 (dim 1) != 3 (dim 0)",
     "output_type": "error",
     "traceback": [
      "\u001b[0;31m---------------------------------------------------------------------------\u001b[0m",
      "\u001b[0;31mValueError\u001b[0m                                Traceback (most recent call last)",
      "\u001b[0;32m<ipython-input-62-81b7985e6037>\u001b[0m in \u001b[0;36m<module>\u001b[0;34m()\u001b[0m\n\u001b[1;32m     19\u001b[0m \u001b[0mprint\u001b[0m\u001b[0;34m(\u001b[0m\u001b[0;34m'r2 scores: '\u001b[0m\u001b[0;34m,\u001b[0m \u001b[0mscores\u001b[0m\u001b[0;34m)\u001b[0m\u001b[0;34m\u001b[0m\u001b[0m\n\u001b[1;32m     20\u001b[0m '''\n\u001b[0;32m---> 21\u001b[0;31m \u001b[0my_pred\u001b[0m\u001b[0;34m=\u001b[0m\u001b[0mlr\u001b[0m\u001b[0;34m.\u001b[0m\u001b[0mpredict\u001b[0m\u001b[0;34m(\u001b[0m\u001b[0mX_test\u001b[0m\u001b[0;34m)\u001b[0m\u001b[0;34m\u001b[0m\u001b[0m\n\u001b[0m\u001b[1;32m     22\u001b[0m \u001b[0mmse\u001b[0m\u001b[0;34m=\u001b[0m\u001b[0mmean_squared_error\u001b[0m\u001b[0;34m(\u001b[0m\u001b[0my_test\u001b[0m\u001b[0;34m,\u001b[0m \u001b[0my_pred\u001b[0m\u001b[0;34m)\u001b[0m\u001b[0;34m\u001b[0m\u001b[0m\n\u001b[1;32m     23\u001b[0m \u001b[0mprint\u001b[0m\u001b[0;34m(\u001b[0m\u001b[0;34m'linear regression mse: '\u001b[0m\u001b[0;34m,\u001b[0m \u001b[0mmse\u001b[0m\u001b[0;34m)\u001b[0m\u001b[0;34m\u001b[0m\u001b[0m\n",
      "\u001b[0;32m~/anaconda3/envs/learn-env/lib/python3.6/site-packages/sklearn/linear_model/base.py\u001b[0m in \u001b[0;36mpredict\u001b[0;34m(self, X)\u001b[0m\n\u001b[1;32m    211\u001b[0m             \u001b[0mReturns\u001b[0m \u001b[0mpredicted\u001b[0m \u001b[0mvalues\u001b[0m\u001b[0;34m.\u001b[0m\u001b[0;34m\u001b[0m\u001b[0m\n\u001b[1;32m    212\u001b[0m         \"\"\"\n\u001b[0;32m--> 213\u001b[0;31m         \u001b[0;32mreturn\u001b[0m \u001b[0mself\u001b[0m\u001b[0;34m.\u001b[0m\u001b[0m_decision_function\u001b[0m\u001b[0;34m(\u001b[0m\u001b[0mX\u001b[0m\u001b[0;34m)\u001b[0m\u001b[0;34m\u001b[0m\u001b[0m\n\u001b[0m\u001b[1;32m    214\u001b[0m \u001b[0;34m\u001b[0m\u001b[0m\n\u001b[1;32m    215\u001b[0m     \u001b[0m_preprocess_data\u001b[0m \u001b[0;34m=\u001b[0m \u001b[0mstaticmethod\u001b[0m\u001b[0;34m(\u001b[0m\u001b[0m_preprocess_data\u001b[0m\u001b[0;34m)\u001b[0m\u001b[0;34m\u001b[0m\u001b[0m\n",
      "\u001b[0;32m~/anaconda3/envs/learn-env/lib/python3.6/site-packages/sklearn/linear_model/base.py\u001b[0m in \u001b[0;36m_decision_function\u001b[0;34m(self, X)\u001b[0m\n\u001b[1;32m    196\u001b[0m         \u001b[0mX\u001b[0m \u001b[0;34m=\u001b[0m \u001b[0mcheck_array\u001b[0m\u001b[0;34m(\u001b[0m\u001b[0mX\u001b[0m\u001b[0;34m,\u001b[0m \u001b[0maccept_sparse\u001b[0m\u001b[0;34m=\u001b[0m\u001b[0;34m[\u001b[0m\u001b[0;34m'csr'\u001b[0m\u001b[0;34m,\u001b[0m \u001b[0;34m'csc'\u001b[0m\u001b[0;34m,\u001b[0m \u001b[0;34m'coo'\u001b[0m\u001b[0;34m]\u001b[0m\u001b[0;34m)\u001b[0m\u001b[0;34m\u001b[0m\u001b[0m\n\u001b[1;32m    197\u001b[0m         return safe_sparse_dot(X, self.coef_.T,\n\u001b[0;32m--> 198\u001b[0;31m                                dense_output=True) + self.intercept_\n\u001b[0m\u001b[1;32m    199\u001b[0m \u001b[0;34m\u001b[0m\u001b[0m\n\u001b[1;32m    200\u001b[0m     \u001b[0;32mdef\u001b[0m \u001b[0mpredict\u001b[0m\u001b[0;34m(\u001b[0m\u001b[0mself\u001b[0m\u001b[0;34m,\u001b[0m \u001b[0mX\u001b[0m\u001b[0;34m)\u001b[0m\u001b[0;34m:\u001b[0m\u001b[0;34m\u001b[0m\u001b[0m\n",
      "\u001b[0;32m~/anaconda3/envs/learn-env/lib/python3.6/site-packages/sklearn/utils/extmath.py\u001b[0m in \u001b[0;36msafe_sparse_dot\u001b[0;34m(a, b, dense_output)\u001b[0m\n\u001b[1;32m    171\u001b[0m         \u001b[0;32mreturn\u001b[0m \u001b[0mret\u001b[0m\u001b[0;34m\u001b[0m\u001b[0m\n\u001b[1;32m    172\u001b[0m     \u001b[0;32melse\u001b[0m\u001b[0;34m:\u001b[0m\u001b[0;34m\u001b[0m\u001b[0m\n\u001b[0;32m--> 173\u001b[0;31m         \u001b[0;32mreturn\u001b[0m \u001b[0mnp\u001b[0m\u001b[0;34m.\u001b[0m\u001b[0mdot\u001b[0m\u001b[0;34m(\u001b[0m\u001b[0ma\u001b[0m\u001b[0;34m,\u001b[0m \u001b[0mb\u001b[0m\u001b[0;34m)\u001b[0m\u001b[0;34m\u001b[0m\u001b[0m\n\u001b[0m\u001b[1;32m    174\u001b[0m \u001b[0;34m\u001b[0m\u001b[0m\n\u001b[1;32m    175\u001b[0m \u001b[0;34m\u001b[0m\u001b[0m\n",
      "\u001b[0;31mValueError\u001b[0m: shapes (138,10) and (3,) not aligned: 10 (dim 1) != 3 (dim 0)"
     ]
    }
   ],
   "source": [
    "from sklearn.feature_selection import RFE\n",
    "# Fitting Logistic Regression To the training set \n",
    "lr = linear_model.LinearRegression(normalize=True) \n",
    "\n",
    "#Initializing RFE model\n",
    "rfe = RFE(lr, 3)\n",
    "#Transforming data using RFE\n",
    "X_rfe = rfe.fit_transform(X_train,y_train)  \n",
    "#Fitting the data to model\n",
    "lr.fit(X_rfe,y_train)\n",
    "print(rfe.support_)\n",
    "print(rfe.ranking_)\n",
    "'''\n",
    "lr.fit(X_train, y_train)\n",
    "cv = KFold(n_splits=3,shuffle=True,random_state=45)\n",
    "r2 = make_scorer(r2_score)\n",
    "r2_val_score = cross_val_score(lr, X_train, y_train, cv=cv,scoring=r2)\n",
    "scores=[r2_val_score.mean()]\n",
    "print('r2 scores: ', scores)\n",
    "'''\n",
    "y_pred=lr.predict(X_test)\n",
    "mse=mean_squared_error(y_test, y_pred)\n",
    "print('linear regression mse: ', mse)"
   ]
  },
  {
   "cell_type": "code",
   "execution_count": 86,
   "metadata": {},
   "outputs": [
    {
     "data": {
      "text/html": [
       "<table class=\"simpletable\">\n",
       "<caption>OLS Regression Results</caption>\n",
       "<tr>\n",
       "  <th>Dep. Variable:</th>            <td>y</td>        <th>  R-squared:         </th> <td>   0.998</td> \n",
       "</tr>\n",
       "<tr>\n",
       "  <th>Model:</th>                   <td>OLS</td>       <th>  Adj. R-squared:    </th> <td>   0.998</td> \n",
       "</tr>\n",
       "<tr>\n",
       "  <th>Method:</th>             <td>Least Squares</td>  <th>  F-statistic:       </th> <td>6.879e+04</td>\n",
       "</tr>\n",
       "<tr>\n",
       "  <th>Date:</th>             <td>Sun, 06 Oct 2019</td> <th>  Prob (F-statistic):</th>  <td>  0.00</td>  \n",
       "</tr>\n",
       "<tr>\n",
       "  <th>Time:</th>                 <td>00:28:08</td>     <th>  Log-Likelihood:    </th> <td> -2051.7</td> \n",
       "</tr>\n",
       "<tr>\n",
       "  <th>No. Observations:</th>      <td>  1104</td>      <th>  AIC:               </th> <td>   4125.</td> \n",
       "</tr>\n",
       "<tr>\n",
       "  <th>Df Residuals:</th>          <td>  1093</td>      <th>  BIC:               </th> <td>   4180.</td> \n",
       "</tr>\n",
       "<tr>\n",
       "  <th>Df Model:</th>              <td>    10</td>      <th>                     </th>     <td> </td>    \n",
       "</tr>\n",
       "<tr>\n",
       "  <th>Covariance Type:</th>      <td>nonrobust</td>    <th>                     </th>     <td> </td>    \n",
       "</tr>\n",
       "</table>\n",
       "<table class=\"simpletable\">\n",
       "<tr>\n",
       "    <td></td>       <th>coef</th>     <th>std err</th>      <th>t</th>      <th>P>|t|</th>  <th>[0.025</th>    <th>0.975]</th>  \n",
       "</tr>\n",
       "<tr>\n",
       "  <th>const</th> <td>  137.6115</td> <td>    0.047</td> <td> 2931.671</td> <td> 0.000</td> <td>  137.519</td> <td>  137.704</td>\n",
       "</tr>\n",
       "<tr>\n",
       "  <th>x1</th>    <td>   33.9808</td> <td>    0.408</td> <td>   83.299</td> <td> 0.000</td> <td>   33.180</td> <td>   34.781</td>\n",
       "</tr>\n",
       "<tr>\n",
       "  <th>x2</th>    <td>    0.7441</td> <td>    0.346</td> <td>    2.148</td> <td> 0.032</td> <td>    0.064</td> <td>    1.424</td>\n",
       "</tr>\n",
       "<tr>\n",
       "  <th>x3</th>    <td>   -0.0755</td> <td>    0.061</td> <td>   -1.245</td> <td> 0.213</td> <td>   -0.195</td> <td>    0.043</td>\n",
       "</tr>\n",
       "<tr>\n",
       "  <th>x4</th>    <td>    0.6400</td> <td>    0.141</td> <td>    4.551</td> <td> 0.000</td> <td>    0.364</td> <td>    0.916</td>\n",
       "</tr>\n",
       "<tr>\n",
       "  <th>x5</th>    <td>    0.1270</td> <td>    0.063</td> <td>    2.012</td> <td> 0.045</td> <td>    0.003</td> <td>    0.251</td>\n",
       "</tr>\n",
       "<tr>\n",
       "  <th>x6</th>    <td>    2.3209</td> <td>    0.225</td> <td>   10.321</td> <td> 0.000</td> <td>    1.880</td> <td>    2.762</td>\n",
       "</tr>\n",
       "<tr>\n",
       "  <th>x7</th>    <td>   -0.4469</td> <td>    0.255</td> <td>   -1.755</td> <td> 0.080</td> <td>   -0.947</td> <td>    0.053</td>\n",
       "</tr>\n",
       "<tr>\n",
       "  <th>x8</th>    <td>    5.8187</td> <td>    0.815</td> <td>    7.135</td> <td> 0.000</td> <td>    4.219</td> <td>    7.419</td>\n",
       "</tr>\n",
       "<tr>\n",
       "  <th>x9</th>    <td>    0.0036</td> <td>    0.073</td> <td>    0.049</td> <td> 0.961</td> <td>   -0.139</td> <td>    0.147</td>\n",
       "</tr>\n",
       "<tr>\n",
       "  <th>x10</th>   <td>   -3.7646</td> <td>    0.596</td> <td>   -6.313</td> <td> 0.000</td> <td>   -4.935</td> <td>   -2.594</td>\n",
       "</tr>\n",
       "</table>\n",
       "<table class=\"simpletable\">\n",
       "<tr>\n",
       "  <th>Omnibus:</th>       <td>98.181</td> <th>  Durbin-Watson:     </th> <td>   1.902</td> \n",
       "</tr>\n",
       "<tr>\n",
       "  <th>Prob(Omnibus):</th> <td> 0.000</td> <th>  Jarque-Bera (JB):  </th> <td> 540.063</td> \n",
       "</tr>\n",
       "<tr>\n",
       "  <th>Skew:</th>          <td> 0.160</td> <th>  Prob(JB):          </th> <td>5.33e-118</td>\n",
       "</tr>\n",
       "<tr>\n",
       "  <th>Kurtosis:</th>      <td> 6.411</td> <th>  Cond. No.          </th> <td>    55.3</td> \n",
       "</tr>\n",
       "</table><br/><br/>Warnings:<br/>[1] Standard Errors assume that the covariance matrix of the errors is correctly specified."
      ],
      "text/plain": [
       "<class 'statsmodels.iolib.summary.Summary'>\n",
       "\"\"\"\n",
       "                            OLS Regression Results                            \n",
       "==============================================================================\n",
       "Dep. Variable:                      y   R-squared:                       0.998\n",
       "Model:                            OLS   Adj. R-squared:                  0.998\n",
       "Method:                 Least Squares   F-statistic:                 6.879e+04\n",
       "Date:                Sun, 06 Oct 2019   Prob (F-statistic):               0.00\n",
       "Time:                        00:28:08   Log-Likelihood:                -2051.7\n",
       "No. Observations:                1104   AIC:                             4125.\n",
       "Df Residuals:                    1093   BIC:                             4180.\n",
       "Df Model:                          10                                         \n",
       "Covariance Type:            nonrobust                                         \n",
       "==============================================================================\n",
       "                 coef    std err          t      P>|t|      [0.025      0.975]\n",
       "------------------------------------------------------------------------------\n",
       "const        137.6115      0.047   2931.671      0.000     137.519     137.704\n",
       "x1            33.9808      0.408     83.299      0.000      33.180      34.781\n",
       "x2             0.7441      0.346      2.148      0.032       0.064       1.424\n",
       "x3            -0.0755      0.061     -1.245      0.213      -0.195       0.043\n",
       "x4             0.6400      0.141      4.551      0.000       0.364       0.916\n",
       "x5             0.1270      0.063      2.012      0.045       0.003       0.251\n",
       "x6             2.3209      0.225     10.321      0.000       1.880       2.762\n",
       "x7            -0.4469      0.255     -1.755      0.080      -0.947       0.053\n",
       "x8             5.8187      0.815      7.135      0.000       4.219       7.419\n",
       "x9             0.0036      0.073      0.049      0.961      -0.139       0.147\n",
       "x10           -3.7646      0.596     -6.313      0.000      -4.935      -2.594\n",
       "==============================================================================\n",
       "Omnibus:                       98.181   Durbin-Watson:                   1.902\n",
       "Prob(Omnibus):                  0.000   Jarque-Bera (JB):              540.063\n",
       "Skew:                           0.160   Prob(JB):                    5.33e-118\n",
       "Kurtosis:                       6.411   Cond. No.                         55.3\n",
       "==============================================================================\n",
       "\n",
       "Warnings:\n",
       "[1] Standard Errors assume that the covariance matrix of the errors is correctly specified.\n",
       "\"\"\""
      ]
     },
     "execution_count": 86,
     "metadata": {},
     "output_type": "execute_result"
    }
   ],
   "source": [
    "import statsmodels.api as sm\n",
    "X_train=sm.add_constant(X_train)\n",
    "\n",
    "model=sm.OLS(y_train, X_train).fit()\n",
    "\n",
    "model.summary()"
   ]
  },
  {
   "cell_type": "code",
   "execution_count": null,
   "metadata": {},
   "outputs": [],
   "source": [
    "def test_model(clf):\n",
    "        \n",
    "        clf.score(train, labels)\n",
    "        return scores"
   ]
  },
  {
   "cell_type": "code",
   "execution_count": 38,
   "metadata": {},
   "outputs": [],
   "source": [
    "def lets_try(train,labels):\n",
    "    '''\n",
    "    Function to try out multiple forms of regression on my dataset\n",
    "    Train = training dataset\n",
    "    Label = target variable\n",
    "    '''\n",
    "    results={}\n",
    "    print('train shape: ', train.shape)\n",
    "    print('train shape: ', labels.shape)\n",
    "\n",
    "    clf = linear_model.LinearRegression()\n",
    "    results[\"Linear\"]=test_model(clf)\n",
    "       \n",
    "    clf = linear_model.Ridge()\n",
    "    results[\"Ridge\"]=test_model(clf)\n",
    "    \n",
    "    clf = linear_model.BayesianRidge()\n",
    "    results[\"Bayesian Ridge\"]=test_model(clf)\n",
    "    \n",
    "    clf = linear_model.HuberRegressor()\n",
    "    results[\"Hubber\"]=test_model(clf)\n",
    "    \n",
    "    clf = linear_model.Lasso(alpha=1e-4)\n",
    "    results[\"Lasso\"]=test_model(clf)\n",
    "    \n",
    "    clf = BaggingRegressor()\n",
    "    results[\"Bagging\"]=test_model(clf)\n",
    "    \n",
    "    clf = RandomForestRegressor()\n",
    "    results[\"RandomForest\"]=test_model(clf)\n",
    "    \n",
    "    clf = AdaBoostRegressor()\n",
    "    results[\"AdaBoost\"]=test_model(clf)\n",
    "    '''\n",
    "    clf = svm.SVR()\n",
    "    results[\"SVM RBF\"]=test_model(clf)\n",
    "    \n",
    "    clf = svm.SVR(kernel=\"linear\")\n",
    "    results[\"SVM Linear\"]=test_model(clf)\n",
    "    '''\n",
    "    results = pd.DataFrame.from_dict(results,orient='index')\n",
    "    results.columns=[\"R Square Score\"] \n",
    "    #results=results.sort(columns=[\"R Square Score\"],ascending=False)\n",
    "    results.plot(kind=\"bar\",title=\"Model Scores\")\n",
    "    axes = plt.gca()\n",
    "    axes.set_ylim([0.5,1])\n",
    "    return results\n",
    "\n",
    "#lets_try(data.values,y.values)"
   ]
  },
  {
   "cell_type": "code",
   "execution_count": null,
   "metadata": {},
   "outputs": [],
   "source": [
    "lets_try()"
   ]
  },
  {
   "cell_type": "code",
   "execution_count": 28,
   "metadata": {},
   "outputs": [
    {
     "data": {
      "text/plain": [
       "array([[ 71.6471],\n",
       "       [ 72.6843],\n",
       "       [ 73.2271],\n",
       "       ...,\n",
       "       [208.67  ],\n",
       "       [207.02  ],\n",
       "       [207.74  ]])"
      ]
     },
     "execution_count": 28,
     "metadata": {},
     "output_type": "execute_result"
    }
   ],
   "source": [
    "y.values"
   ]
  },
  {
   "cell_type": "code",
   "execution_count": null,
   "metadata": {},
   "outputs": [],
   "source": []
  },
  {
   "cell_type": "code",
   "execution_count": null,
   "metadata": {},
   "outputs": [],
   "source": []
  }
 ],
 "metadata": {
  "kernelspec": {
   "display_name": "Python 3",
   "language": "python",
   "name": "python3"
  },
  "language_info": {
   "codemirror_mode": {
    "name": "ipython",
    "version": 3
   },
   "file_extension": ".py",
   "mimetype": "text/x-python",
   "name": "python",
   "nbconvert_exporter": "python",
   "pygments_lexer": "ipython3",
   "version": "3.6.8"
  }
 },
 "nbformat": 4,
 "nbformat_minor": 2
}
